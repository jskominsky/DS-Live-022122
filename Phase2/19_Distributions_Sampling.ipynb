{
 "cells": [
  {
   "cell_type": "markdown",
   "metadata": {
    "heading_collapsed": true
   },
   "source": [
    "# Objectives"
   ]
  },
  {
   "cell_type": "markdown",
   "metadata": {
    "hidden": true
   },
   "source": [
    "* Explain how sampling is related to its related population\n",
    "* Describe the difference between discrete and continuous random variables\n",
    "* Describe the difference between PMFs, PDFs, and CDFs"
   ]
  },
  {
   "cell_type": "code",
   "execution_count": 1,
   "metadata": {
    "ExecuteTime": {
     "end_time": "2021-10-08T20:59:55.423713Z",
     "start_time": "2021-10-08T20:59:53.995917Z"
    }
   },
   "outputs": [],
   "source": [
    "# Initial imports \n",
    "import pandas as pd\n",
    "import numpy as np\n",
    "from scipy import stats\n",
    "from matplotlib import pyplot as plt\n",
    "import seaborn as sns\n",
    "%matplotlib inline"
   ]
  },
  {
   "cell_type": "markdown",
   "metadata": {
    "heading_collapsed": true
   },
   "source": [
    "# First Steps: Sampling"
   ]
  },
  {
   "cell_type": "markdown",
   "metadata": {
    "hidden": true
   },
   "source": [
    "Before we get into our main topic of probability distributions, it'll help to first understand the concept of **sampling**."
   ]
  },
  {
   "cell_type": "markdown",
   "metadata": {
    "heading_collapsed": true,
    "hidden": true
   },
   "source": [
    "## Our View of The World Isn't Perfect"
   ]
  },
  {
   "cell_type": "markdown",
   "metadata": {
    "hidden": true
   },
   "source": [
    "We don't have _perfect_ information; life doesn't have an answer key.\n",
    "\n",
    "Ideally, we want to have all the details of a whole group. But as you can guess, that's not always feasible."
   ]
  },
  {
   "cell_type": "markdown",
   "metadata": {
    "hidden": true
   },
   "source": [
    "**🧠  What are some reasons we sometimes _can't_ observe the whole group?**\n",
    "<details>\n",
    "<ul>\n",
    "    <li>Expensive</li>\n",
    "    <li>Unrealistic</li>\n",
    "    <li>We don't need it to gain insights!</li>\n",
    "</ul>\n",
    "</details>"
   ]
  },
  {
   "cell_type": "markdown",
   "metadata": {
    "heading_collapsed": true,
    "hidden": true
   },
   "source": [
    "## Solutions?"
   ]
  },
  {
   "cell_type": "markdown",
   "metadata": {
    "hidden": true
   },
   "source": [
    "Let's use an example scenario to think about how we can approach this. Let's say we would like to know the ages of students at Flatiron School. \n",
    "\n",
    "Picture what this might look like. How would you describe the population of students' ages?"
   ]
  },
  {
   "cell_type": "markdown",
   "metadata": {
    "hidden": true
   },
   "source": [
    "> **Key Terms**\n",
    ">\n",
    "> We define the **population** as the whole group we're interested in. We abstract this to the population being the whole set of _possible outcomes_.\n",
    "> \n",
    "> And when we \"pick\" a student (or students), we say we have (randomly) _sampled_ over the population. We call this subset of \"picked\" individuals/outcomes from the population a **sample**."
   ]
  },
  {
   "cell_type": "markdown",
   "metadata": {
    "hidden": true
   },
   "source": [
    "Well, if we knew what the **population** (all the Flatiron students) looked like, we could probably get an idea of what the likely age is of a _randomly_ picked one from the population."
   ]
  },
  {
   "cell_type": "markdown",
   "metadata": {
    "hidden": true
   },
   "source": [
    "We can describe the \"look\" of the population a **probability distribution**. "
   ]
  },
  {
   "cell_type": "markdown",
   "metadata": {
    "hidden": true
   },
   "source": [
    "> **Key Terms**\n",
    "> \n",
    "> A **probability distribution** is a representation of the frequencies of potential outcomes or the percentage of time each outcome occurs."
   ]
  },
  {
   "cell_type": "markdown",
   "metadata": {
    "hidden": true
   },
   "source": [
    "There are a few ways to get the probability distribution, even if it's only approximate."
   ]
  },
  {
   "cell_type": "markdown",
   "metadata": {
    "heading_collapsed": true,
    "hidden": true
   },
   "source": [
    "### Observe the Whole Population"
   ]
  },
  {
   "cell_type": "markdown",
   "metadata": {
    "hidden": true
   },
   "source": [
    "This might seem like \"cheating\" but sometimes this is really the best way even if it's \"expensive\" (monetarily, time, or otherwise). Sometimes this has already been done for us and we can use those results. It's important to note that sometimes the information is outdated but we can use it as approximately right. (Think how the US Census is done only every 10 years.)"
   ]
  },
  {
   "cell_type": "markdown",
   "metadata": {
    "hidden": true
   },
   "source": [
    "So in our example, we could have a _distribution_ of ages of our population. Let's say of all students were asked their age when enrolling:\n",
    "\n",
    "- $15\\%$ are under the age of $25$\n",
    "- $30\\%$ are between $25$ & $30$\n",
    "- $25\\%$ are between $30$ & $35$\n",
    "- $20\\%$ are between $35$ & $40$\n",
    "- $10\\%$ are over the age of $40$"
   ]
  },
  {
   "cell_type": "markdown",
   "metadata": {
    "heading_collapsed": true,
    "hidden": true
   },
   "source": [
    "### We Sample and Infer the Population's Distribution "
   ]
  },
  {
   "cell_type": "markdown",
   "metadata": {
    "hidden": true
   },
   "source": [
    "Another method is to sample the population (usually randomly) and observe what the sample's distribution looks like. We can then infer what the population might look like."
   ]
  },
  {
   "cell_type": "markdown",
   "metadata": {
    "hidden": true
   },
   "source": [
    "Suppose we ask 100 random students their ages and observe the following:\n",
    "\n",
    "- $10$ are under the age of $25$\n",
    "- $30$ are between $25$ & $30$\n",
    "- $30$ are between $30$ & $35$\n",
    "- $15$ are between $35$ & $40$\n",
    "- $15$ are over the age of $40$\n",
    "\n",
    "Then we can guess that our population is similar to this distribution."
   ]
  },
  {
   "cell_type": "markdown",
   "metadata": {
    "hidden": true
   },
   "source": [
    "How similar? Well, that can be a tough question and is part of _inferential statistics_ where we make predictions based on our observations/data.  We'll  be going into more detail about this in the near future."
   ]
  },
  {
   "cell_type": "markdown",
   "metadata": {},
   "source": [
    "## Sampling & Point Estimates "
   ]
  },
  {
   "cell_type": "markdown",
   "metadata": {},
   "source": [
    "> The sample statistic is calculated from the sample data and the population parameter is inferred (or estimated) from this sample statistic. Let me say that again: Statistics are calculated, parameters are estimated. - James Jones"
   ]
  },
  {
   "cell_type": "markdown",
   "metadata": {},
   "source": [
    "**Know the differences - Population v Sample Terminology**\n",
    "\n",
    "Characteristics of populations are called *parameters*<br/>\n",
    "Characteristics of a sample are called *statistics*\n",
    "\n",
    "<img src=\"https://media.cheggcdn.com/media/7ac/7ac1a812-3b41-4873-8413-b6a7b8fab530/CL-26481V_image_006.png\" width=700>\n",
    "\n",
    "Let's work through an example to understand this topic better. We grabbed wage and classification information for 11,739 City of Seattle Employees (as of March 2022).\n",
    "\n",
    "Details: https://data.seattle.gov/City-Business/City-of-Seattle-Wage-Data/2khk-5ukd"
   ]
  },
  {
   "cell_type": "code",
   "execution_count": 2,
   "metadata": {},
   "outputs": [
    {
     "data": {
      "text/html": [
       "<div>\n",
       "<style scoped>\n",
       "    .dataframe tbody tr th:only-of-type {\n",
       "        vertical-align: middle;\n",
       "    }\n",
       "\n",
       "    .dataframe tbody tr th {\n",
       "        vertical-align: top;\n",
       "    }\n",
       "\n",
       "    .dataframe thead th {\n",
       "        text-align: right;\n",
       "    }\n",
       "</style>\n",
       "<table border=\"1\" class=\"dataframe\">\n",
       "  <thead>\n",
       "    <tr style=\"text-align: right;\">\n",
       "      <th></th>\n",
       "      <th>Department</th>\n",
       "      <th>Last Name</th>\n",
       "      <th>First Name</th>\n",
       "      <th>Job Title</th>\n",
       "      <th>Hourly Rate</th>\n",
       "    </tr>\n",
       "  </thead>\n",
       "  <tbody>\n",
       "    <tr>\n",
       "      <th>0</th>\n",
       "      <td>Seattle Public Utilities</td>\n",
       "      <td>Batchelor</td>\n",
       "      <td>Craig</td>\n",
       "      <td>Civil Engrng Spec,Sr</td>\n",
       "      <td>53.740</td>\n",
       "    </tr>\n",
       "    <tr>\n",
       "      <th>1</th>\n",
       "      <td>Finance &amp; Admin Services</td>\n",
       "      <td>Altice</td>\n",
       "      <td>Jeffrey</td>\n",
       "      <td>Auto Mechanic</td>\n",
       "      <td>39.780</td>\n",
       "    </tr>\n",
       "    <tr>\n",
       "      <th>2</th>\n",
       "      <td>Finance &amp; Admin Services</td>\n",
       "      <td>Montes</td>\n",
       "      <td>Valeria</td>\n",
       "      <td>Cust Svc Rep</td>\n",
       "      <td>29.450</td>\n",
       "    </tr>\n",
       "    <tr>\n",
       "      <th>3</th>\n",
       "      <td>Fire Department</td>\n",
       "      <td>Kuklok</td>\n",
       "      <td>Rebecca</td>\n",
       "      <td>Cust Svc Rep *</td>\n",
       "      <td>29.450</td>\n",
       "    </tr>\n",
       "    <tr>\n",
       "      <th>4</th>\n",
       "      <td>Planning &amp; Comm Development</td>\n",
       "      <td>Quirindongo</td>\n",
       "      <td>Rico</td>\n",
       "      <td>Executive3</td>\n",
       "      <td>97.164</td>\n",
       "    </tr>\n",
       "  </tbody>\n",
       "</table>\n",
       "</div>"
      ],
      "text/plain": [
       "                    Department    Last Name First Name             Job Title  \\\n",
       "0     Seattle Public Utilities    Batchelor      Craig  Civil Engrng Spec,Sr   \n",
       "1     Finance & Admin Services       Altice    Jeffrey         Auto Mechanic   \n",
       "2     Finance & Admin Services       Montes    Valeria          Cust Svc Rep   \n",
       "3              Fire Department       Kuklok    Rebecca        Cust Svc Rep *   \n",
       "4  Planning & Comm Development  Quirindongo       Rico            Executive3   \n",
       "\n",
       "   Hourly Rate   \n",
       "0        53.740  \n",
       "1        39.780  \n",
       "2        29.450  \n",
       "3        29.450  \n",
       "4        97.164  "
      ]
     },
     "execution_count": 2,
     "metadata": {},
     "output_type": "execute_result"
    }
   ],
   "source": [
    "# Grab our data\n",
    "\n",
    "df= pd.read_csv(\"data/City_of_Seattle_Wage_Data_031422.csv\")\n",
    "df.head()"
   ]
  },
  {
   "cell_type": "code",
   "execution_count": null,
   "metadata": {},
   "outputs": [],
   "source": [
    "# Thing to note - the column name 'Hourly Rate ' has a space at the end\n"
   ]
  },
  {
   "cell_type": "code",
   "execution_count": 3,
   "metadata": {},
   "outputs": [
    {
     "data": {
      "text/plain": [
       "Index(['Department', 'Last Name', 'First Name', 'Job Title', 'Hourly Rate '], dtype='object')"
      ]
     },
     "execution_count": 3,
     "metadata": {},
     "output_type": "execute_result"
    }
   ],
   "source": [
    "# So let's rename the columns\n",
    "df.columns"
   ]
  },
  {
   "cell_type": "code",
   "execution_count": 4,
   "metadata": {},
   "outputs": [
    {
     "data": {
      "text/plain": [
       "['Department', 'LastName', 'FirstName', 'JobTitle', 'HourlyRate']"
      ]
     },
     "execution_count": 4,
     "metadata": {},
     "output_type": "execute_result"
    }
   ],
   "source": [
    "[c.replace (\" \", \"\") for c in df.columns]"
   ]
  },
  {
   "cell_type": "code",
   "execution_count": 5,
   "metadata": {},
   "outputs": [],
   "source": [
    "\n",
    "df = df.rename (columns = lambda x: x.replace(\" \", \"\"))"
   ]
  },
  {
   "cell_type": "code",
   "execution_count": 6,
   "metadata": {},
   "outputs": [
    {
     "data": {
      "text/plain": [
       "Index(['Department', 'LastName', 'FirstName', 'JobTitle', 'HourlyRate'], dtype='object')"
      ]
     },
     "execution_count": 6,
     "metadata": {},
     "output_type": "execute_result"
    }
   ],
   "source": [
    "# Check our work\n",
    "df.columns"
   ]
  },
  {
   "cell_type": "markdown",
   "metadata": {},
   "source": [
    "What we'll do is grab a random sample, of 500 employees, and see how the sample statistics match up with our population parameters."
   ]
  },
  {
   "cell_type": "code",
   "execution_count": 7,
   "metadata": {},
   "outputs": [],
   "source": [
    "# gonna use the random library to add randomness\n",
    "import random\n",
    "\n",
    "# seed for reproducibility (not too random)\n",
    "random.seed(2021) "
   ]
  },
  {
   "cell_type": "code",
   "execution_count": 8,
   "metadata": {},
   "outputs": [],
   "source": [
    "# set our parameters\n",
    "sample_size = 500\n",
    "total_employees = len(df)"
   ]
  },
  {
   "cell_type": "code",
   "execution_count": 9,
   "metadata": {
    "ExecuteTime": {
     "end_time": "2020-07-28T23:02:36.009622Z",
     "start_time": "2020-07-28T23:00:43.249404Z"
    }
   },
   "outputs": [],
   "source": [
    "# Sample 500 random employees\n",
    "sample = df.sample(n=sample_size)"
   ]
  },
  {
   "cell_type": "code",
   "execution_count": 10,
   "metadata": {},
   "outputs": [
    {
     "data": {
      "text/html": [
       "<div>\n",
       "<style scoped>\n",
       "    .dataframe tbody tr th:only-of-type {\n",
       "        vertical-align: middle;\n",
       "    }\n",
       "\n",
       "    .dataframe tbody tr th {\n",
       "        vertical-align: top;\n",
       "    }\n",
       "\n",
       "    .dataframe thead th {\n",
       "        text-align: right;\n",
       "    }\n",
       "</style>\n",
       "<table border=\"1\" class=\"dataframe\">\n",
       "  <thead>\n",
       "    <tr style=\"text-align: right;\">\n",
       "      <th></th>\n",
       "      <th>Department</th>\n",
       "      <th>LastName</th>\n",
       "      <th>FirstName</th>\n",
       "      <th>JobTitle</th>\n",
       "      <th>HourlyRate</th>\n",
       "    </tr>\n",
       "  </thead>\n",
       "  <tbody>\n",
       "    <tr>\n",
       "      <th>11297</th>\n",
       "      <td>Police Department</td>\n",
       "      <td>McDonagh</td>\n",
       "      <td>Paul</td>\n",
       "      <td>Pol Capt - Violent Crime</td>\n",
       "      <td>101.39</td>\n",
       "    </tr>\n",
       "    <tr>\n",
       "      <th>10350</th>\n",
       "      <td>Seattle City Light</td>\n",
       "      <td>Pina</td>\n",
       "      <td>Marvin</td>\n",
       "      <td>Lnwkr</td>\n",
       "      <td>61.86</td>\n",
       "    </tr>\n",
       "    <tr>\n",
       "      <th>1452</th>\n",
       "      <td>Seattle Public Utilities</td>\n",
       "      <td>Lopez Saguilan</td>\n",
       "      <td>Irving</td>\n",
       "      <td>Meter Reader *</td>\n",
       "      <td>26.33</td>\n",
       "    </tr>\n",
       "    <tr>\n",
       "      <th>6586</th>\n",
       "      <td>Seattle Public Utilities</td>\n",
       "      <td>Peralta</td>\n",
       "      <td>Hector</td>\n",
       "      <td>Util Act Rep II</td>\n",
       "      <td>38.00</td>\n",
       "    </tr>\n",
       "    <tr>\n",
       "      <th>7524</th>\n",
       "      <td>Parks &amp; Recreation</td>\n",
       "      <td>Anderson</td>\n",
       "      <td>Shannon</td>\n",
       "      <td>Rec Prgm Spec</td>\n",
       "      <td>37.10</td>\n",
       "    </tr>\n",
       "    <tr>\n",
       "      <th>...</th>\n",
       "      <td>...</td>\n",
       "      <td>...</td>\n",
       "      <td>...</td>\n",
       "      <td>...</td>\n",
       "      <td>...</td>\n",
       "    </tr>\n",
       "    <tr>\n",
       "      <th>11603</th>\n",
       "      <td>Parks &amp; Recreation</td>\n",
       "      <td>Adbullah</td>\n",
       "      <td>Rashad</td>\n",
       "      <td>Util Laborer *</td>\n",
       "      <td>29.03</td>\n",
       "    </tr>\n",
       "    <tr>\n",
       "      <th>4317</th>\n",
       "      <td>Police Department</td>\n",
       "      <td>Blair</td>\n",
       "      <td>Jordan</td>\n",
       "      <td>Pol Ofcr- Student</td>\n",
       "      <td>42.96</td>\n",
       "    </tr>\n",
       "    <tr>\n",
       "      <th>5913</th>\n",
       "      <td>Seattle City Light</td>\n",
       "      <td>Grepo</td>\n",
       "      <td>Deogracias</td>\n",
       "      <td>Elecl Pwr Systs Engr,Prin</td>\n",
       "      <td>74.50</td>\n",
       "    </tr>\n",
       "    <tr>\n",
       "      <th>5506</th>\n",
       "      <td>Seattle Dept of Transportation</td>\n",
       "      <td>Arthur</td>\n",
       "      <td>Christina</td>\n",
       "      <td>Transp Plnr,Sr</td>\n",
       "      <td>59.55</td>\n",
       "    </tr>\n",
       "    <tr>\n",
       "      <th>2055</th>\n",
       "      <td>Human Services Department</td>\n",
       "      <td>Korff</td>\n",
       "      <td>Constantin</td>\n",
       "      <td>Fair Hearing Coord</td>\n",
       "      <td>44.72</td>\n",
       "    </tr>\n",
       "  </tbody>\n",
       "</table>\n",
       "<p>500 rows × 5 columns</p>\n",
       "</div>"
      ],
      "text/plain": [
       "                           Department        LastName   FirstName  \\\n",
       "11297               Police Department        McDonagh        Paul   \n",
       "10350              Seattle City Light            Pina      Marvin   \n",
       "1452         Seattle Public Utilities  Lopez Saguilan      Irving   \n",
       "6586         Seattle Public Utilities         Peralta      Hector   \n",
       "7524               Parks & Recreation        Anderson     Shannon   \n",
       "...                               ...             ...         ...   \n",
       "11603              Parks & Recreation        Adbullah      Rashad   \n",
       "4317                Police Department           Blair      Jordan   \n",
       "5913               Seattle City Light           Grepo  Deogracias   \n",
       "5506   Seattle Dept of Transportation          Arthur   Christina   \n",
       "2055        Human Services Department           Korff  Constantin   \n",
       "\n",
       "                        JobTitle  HourlyRate  \n",
       "11297   Pol Capt - Violent Crime      101.39  \n",
       "10350                      Lnwkr       61.86  \n",
       "1452              Meter Reader *       26.33  \n",
       "6586             Util Act Rep II       38.00  \n",
       "7524               Rec Prgm Spec       37.10  \n",
       "...                          ...         ...  \n",
       "11603             Util Laborer *       29.03  \n",
       "4317           Pol Ofcr- Student       42.96  \n",
       "5913   Elecl Pwr Systs Engr,Prin       74.50  \n",
       "5506              Transp Plnr,Sr       59.55  \n",
       "2055          Fair Hearing Coord       44.72  \n",
       "\n",
       "[500 rows x 5 columns]"
      ]
     },
     "execution_count": 10,
     "metadata": {},
     "output_type": "execute_result"
    }
   ],
   "source": [
    "sample"
   ]
  },
  {
   "cell_type": "code",
   "execution_count": 11,
   "metadata": {
    "ExecuteTime": {
     "end_time": "2020-07-28T23:06:38.133047Z",
     "start_time": "2020-07-28T23:06:37.967834Z"
    }
   },
   "outputs": [
    {
     "data": {
      "image/png": "[encoded data removed]",
      "text/plain": [
       "<Figure size 576x432 with 1 Axes>"
      ]
     },
     "metadata": {
      "needs_background": "light"
     },
     "output_type": "display_data"
    }
   ],
   "source": [
    "#Make a visualization that shows the distribution of hourly rate\n",
    "\n",
    "plt.figure(figsize=(8,6))\n",
    "\n",
    "sns.histplot(df['HourlyRate'], label='Full Dataset', stat='density', kde=True)\n",
    "sns.histplot(sample['HourlyRate'], label='Sample', stat='density', kde=True, color='orange', alpha=.5)\n",
    "\n",
    "plt.xlabel(\"Hourly Rate\")\n",
    "plt.ylabel(\"Frequency\")\n",
    "plt.title(\"Distribution of Hourly Rates Amongst Seattle City Employees\")\n",
    "plt.legend()\n",
    "plt.show()"
   ]
  },
  {
   "cell_type": "markdown",
   "metadata": {},
   "source": [
    "Another comparison: "
   ]
  },
  {
   "cell_type": "code",
   "execution_count": 12,
   "metadata": {},
   "outputs": [
    {
     "name": "stdout",
     "output_type": "stream",
     "text": [
      "Full Dataset:\n",
      "         HourlyRate\n",
      "count  11739.000000\n",
      "mean      47.817331\n",
      "std       16.722128\n",
      "min        5.530000\n",
      "25%       35.400000\n",
      "50%       47.340000\n",
      "75%       59.550000\n",
      "max      187.767000\n",
      "********************\n",
      "Sample:\n",
      "       HourlyRate\n",
      "count  500.000000\n",
      "mean    47.190048\n",
      "std     17.541361\n",
      "min     18.560000\n",
      "25%     34.132500\n",
      "50%     46.790000\n",
      "75%     59.800000\n",
      "max    141.273000\n"
     ]
    }
   ],
   "source": [
    "print(\"Full Dataset:\")\n",
    "print(df.describe())\n",
    "print(\"*\" * 20)\n",
    "print(\"Sample:\")\n",
    "print(sample.describe())"
   ]
  },
  {
   "cell_type": "markdown",
   "metadata": {},
   "source": [
    "So, how'd our sample do?\n",
    "\n",
    "- Pretty good, the mean is very close\n",
    "- The STD is also very close to the population\n",
    "- The median is also pretty close to the population\n",
    "- The big differences are in the min and max (possible outliers)\n"
   ]
  },
  {
   "cell_type": "markdown",
   "metadata": {
    "heading_collapsed": true,
    "hidden": true
   },
   "source": [
    "## Going Forward"
   ]
  },
  {
   "cell_type": "markdown",
   "metadata": {
    "hidden": true
   },
   "source": [
    "For the rest of the lecture, we're going to focus on how we can describe probability distributions. This will give us a tool set whether we're talking about a sample or an established population."
   ]
  },
  {
   "cell_type": "markdown",
   "metadata": {
    "hidden": true
   },
   "source": [
    "> **Aside - Use a Mathematical Model as a Proxy to the Population's Distribution**\n",
    "> \n",
    "> If we know what a population distribution _should_ look, we can mathematically  define a model that would fill-in for our population.\n",
    "> \n",
    "> This is analogous to something like using a perfect circle to approximate a car's tire. Is it exactly the same? No, there are some deviations from the circle but it's close enough for many applications.\n",
    "> \n",
    "> There are many other _parametric probability distributions_ which can be described mathematically and can be very convenient for us. We won't focus on this now, but know that is another use case of probability distributions."
   ]
  },
  {
   "cell_type": "markdown",
   "metadata": {
    "heading_collapsed": true
   },
   "source": [
    "# Probability Distributions"
   ]
  },
  {
   "cell_type": "markdown",
   "metadata": {
    "hidden": true
   },
   "source": [
    "We will learn about a variety of different probability distributions, but before we do so, we need to establish the difference between **discrete** and **continuous** distributions."
   ]
  },
  {
   "cell_type": "markdown",
   "metadata": {},
   "source": [
    "A fundamental distinction among kinds of distributions is the distinction between discrete and continuous distributions. \n",
    "\n",
    "A **discrete distribution** (or variable) takes on countable values, like integers, where every outcome has a positive probability.\n",
    "\n",
    "A **continuous distribution** takes on a continuum of values, like real numbers. It assigns probabilities to ranges of values (not any one single value)\n",
    "\n",
    "![](https://miro.medium.com/max/1022/1*7DwXV_h_t7_-TkLAImKBaQ.png)\n",
    "\n",
    "[More Explanation](https://mathbitsnotebook.com/Algebra1/FunctionGraphs/FNGContinuousDiscrete.html)"
   ]
  },
  {
   "cell_type": "markdown",
   "metadata": {
    "heading_collapsed": true,
    "hidden": true
   },
   "source": [
    "## Discrete Distributions"
   ]
  },
  {
   "cell_type": "markdown",
   "metadata": {
    "hidden": true
   },
   "source": [
    "With discrete distributions, you can only get certain specific values, not all values in a range.  Take, for example, a roll of a single six-sided die - there are 6 possible outcomes of the roll, and non-integer numbers between 1 and 6 are not possible results."
   ]
  },
  {
   "cell_type": "markdown",
   "metadata": {
    "heading_collapsed": true,
    "hidden": true
   },
   "source": [
    "### Examples of Discrete Distributions"
   ]
  },
  {
   "cell_type": "markdown",
   "metadata": {
    "hidden": true
   },
   "source": [
    "- **Uniform Distribution**\n",
    "    - Occurs when all possible outcomes are equally likely.\n",
    "    - e.g. rolling a six-sided die\n",
    "    \n",
    "- **Bernoulli Distribution**\n",
    "    - Represents the probability of success for a certain experiment (binary outcome).\n",
    "    - e.g. flipping a fair coin\n",
    "    \n",
    "- **Binomial Distribution**\n",
    "    - Represents the probability of observing a specific number of successes (Bernoulli trials) in a specific number of trials.\n",
    "    - e.g. number of defects found from a 100-random sample from the production line"
   ]
  },
  {
   "cell_type": "markdown",
   "metadata": {
    "heading_collapsed": true,
    "hidden": true
   },
   "source": [
    "## Continuous Distributions"
   ]
  },
  {
   "cell_type": "markdown",
   "metadata": {
    "hidden": true
   },
   "source": [
    "With a continuous distribution, you can expect to get any value within a range. Think about measuring the length of something. The reported measurement can always be more or less precise."
   ]
  },
  {
   "cell_type": "markdown",
   "metadata": {
    "heading_collapsed": true,
    "hidden": true
   },
   "source": [
    "### Examples of Continuous Distributions"
   ]
  },
  {
   "cell_type": "markdown",
   "metadata": {
    "hidden": true
   },
   "source": [
    "- **Continuous Uniform**\n",
    "    - A continuous distribution that takes values within a specified range *a* to *b*, when each value within the range is equally likely.\n",
    "    - e.g. time take an elevator arrive at your floor.\n",
    "\n",
    "- **Normal (Gaussian)**\n",
    "    - A probability distribution that is symmetric about the mean, showing that the mean are more frequent in occurrence than data far from the mean.\n",
    "    - e.g. individual height in a population\n",
    "    \n",
    "- **Exponential**\n",
    "    - Uses to model the time elapsed between events.\n",
    "    - e.g. amount of time a postal clerk spends with a customer"
   ]
  },
  {
   "cell_type": "markdown",
   "metadata": {},
   "source": [
    "## Probability Distribution Functions\n",
    "\n",
    "### Probability Mass Functions (PMF) / Probability Density Functions (PDF) & Cumulative Density Functions (CDF)\n",
    "\n",
    "(I know, \"Probability Distribution Functions\" and \"Probability Density Functions\" have the same acronym. PDF normally stands for the latter - the former is a more catch-all term for all three of these)"
   ]
  },
  {
   "cell_type": "markdown",
   "metadata": {},
   "source": [
    "![example graphs of a continuous cdf with corresponding pdf and discrete cdf with corresponding pmf](images/cdf.png)\n"
   ]
  },
  {
   "cell_type": "markdown",
   "metadata": {},
   "source": [
    "### Probability Mass Function\n",
    "\n",
    "The **probability mass function (PMF)** for a *discrete random variable* gives, at any value $k$, the probability that the random variable takes the value $k$. \n",
    "\n",
    "### Probability Density Function\n",
    "\n",
    "**Probability density functions (PDF)** are similar to PMFs, in that they describe the probability of a result within a range of values. But where PMFs are appropriate for discrete variables and so can be descibed with barplots, PDFs are smooth curves that describe *continuous random variables*.  \n",
    "\n",
    "We can think of a PDF as a bunch of bars of probabilities getting smaller and smaller until each neighbor is indistinguishable from its neighbor.\n",
    "\n",
    "It is then intuitive that you cannot calculate expected value and variance in the same way as we did with PMFs.  Instead, we have to integrate over the entirety of the curve to calculate the expected value."
   ]
  },
  {
   "cell_type": "markdown",
   "metadata": {},
   "source": [
    "![](images/pdf_inter.png)"
   ]
  },
  {
   "cell_type": "markdown",
   "metadata": {},
   "source": [
    "## Distributions with Scipy Stats"
   ]
  },
  {
   "cell_type": "markdown",
   "metadata": {},
   "source": [
    "Documentation: https://docs.scipy.org/doc/scipy/reference/stats.html"
   ]
  },
  {
   "cell_type": "markdown",
   "metadata": {},
   "source": [
    "## First Up: Get to know the `stats` module with Discrete Distributions!"
   ]
  },
  {
   "cell_type": "markdown",
   "metadata": {},
   "source": [
    "### Bernoulli Distribution \n",
    "\n",
    "The **Bernoulli** distribution shows the outcome of a single trial where there are only 2 possible options.\n",
    "\n",
    "The easiest example is a single coin flip of a fair coin."
   ]
  },
  {
   "cell_type": "code",
   "execution_count": 16,
   "metadata": {},
   "outputs": [],
   "source": [
    "# Define our likelihood of 'success'\n",
    "p_success = .5\n",
    "\n",
    "# Now - lets use the stats library to get the probabilities \n",
    "# Probability of 'failure' (0)\n",
    "p_tails = stats.bernoulli.pmf(k=0, p=p_success)\n",
    "# Probability of 'success' (1)\n",
    "p_heads = stats.bernoulli.pmf(k=1, p=p_success)"
   ]
  },
  {
   "cell_type": "code",
   "execution_count": 21,
   "metadata": {},
   "outputs": [],
   "source": [
    "# Create a dict for visualization:\n",
    "coin_flip = {\n",
    "    'Tails' : p_tails,\n",
    "    'Heads' : p_heads\n",
    "    \n",
    "    \n",
    "}"
   ]
  },
  {
   "cell_type": "code",
   "execution_count": 22,
   "metadata": {},
   "outputs": [
    {
     "data": {
      "text/plain": [
       "{'Tails': 0.5, 'Heads': 0.5}"
      ]
     },
     "execution_count": 22,
     "metadata": {},
     "output_type": "execute_result"
    }
   ],
   "source": [
    "coin_flip"
   ]
  },
  {
   "cell_type": "code",
   "execution_count": 23,
   "metadata": {},
   "outputs": [
    {
     "data": {
      "image/png": "[encoded data removed]",
      "text/plain": [
       "<Figure size 576x432 with 1 Axes>"
      ]
     },
     "metadata": {
      "needs_background": "light"
     },
     "output_type": "display_data"
    }
   ],
   "source": [
    "# visualize it\n",
    "plt.figure(figsize=(8,6))\n",
    "\n",
    "plt.bar(coin_flip.keys(), height=coin_flip.values())\n",
    "\n",
    "plt.ylabel('Probability')\n",
    "plt.xlabel('Result of Coin Flip')\n",
    "plt.ylim(0, 1)\n",
    "plt.show()"
   ]
  },
  {
   "cell_type": "code",
   "execution_count": 25,
   "metadata": {},
   "outputs": [
    {
     "name": "stdout",
     "output_type": "stream",
     "text": [
      "0.5\n",
      "1.0\n"
     ]
    }
   ],
   "source": [
    "# Now let's check out the cumulative probability\n",
    "# 'failure'\n",
    "print(stats.bernoulli.cdf(k=0, p=p_success))\n",
    "# 'success'\n",
    "print(stats.bernoulli.cdf(k=1, p=p_success))"
   ]
  },
  {
   "cell_type": "code",
   "execution_count": 26,
   "metadata": {
    "scrolled": false
   },
   "outputs": [
    {
     "data": {
      "image/png": "[encoded data removed]",
      "text/plain": [
       "<Figure size 576x432 with 1 Axes>"
      ]
     },
     "metadata": {
      "needs_background": "light"
     },
     "output_type": "display_data"
    }
   ],
   "source": [
    "# visualize it\n",
    "plt.figure(figsize=(8,6))\n",
    "\n",
    "\n",
    "\n",
    "plt.bar(coin_flip.keys(),\n",
    "        height=[stats.bernoulli.cdf(k=0, p=p_success), \n",
    "                stats.bernoulli.cdf(k=1, p=p_success)],\n",
    "        label='Cumulative Probability')\n",
    "\n",
    "\n",
    "plt.bar(coin_flip.keys(), \n",
    "        height=coin_flip.values(),\n",
    "       label='Bernouli Discrete Probability')\n",
    "\n",
    "plt.ylabel('Probability')\n",
    "plt.xlabel('Result of Coin Flip')\n",
    "plt.ylim(0, 1)\n",
    "plt.legend()\n",
    "plt.show()"
   ]
  },
  {
   "cell_type": "markdown",
   "metadata": {},
   "source": [
    "A note - Bernoulli distributions do not need to showcase a fair and balanced trial, as was the case above. Let's look really quickly at a game where the chance of winning is only 10%:"
   ]
  },
  {
   "cell_type": "code",
   "execution_count": 27,
   "metadata": {
    "scrolled": true
   },
   "outputs": [],
   "source": [
    "p_success = .1\n",
    "\n",
    "# Let's 'freeze' this distribution\n",
    "rv = stats.bernoulli(p=p_success)\n",
    "\n",
    "# Create a dict for visualization:\n",
    "unfair_game ={\n",
    "    'Lose' : rv.pmf(k=0),\n",
    "    'Win' : rv.pmf(k=1)\n",
    "    \n",
    "    \n",
    "}"
   ]
  },
  {
   "cell_type": "code",
   "execution_count": 28,
   "metadata": {},
   "outputs": [
    {
     "data": {
      "text/plain": [
       "{'Lose': 0.9, 'Win': 0.10000000000000002}"
      ]
     },
     "execution_count": 28,
     "metadata": {},
     "output_type": "execute_result"
    }
   ],
   "source": [
    "unfair_game"
   ]
  },
  {
   "cell_type": "code",
   "execution_count": 29,
   "metadata": {},
   "outputs": [
    {
     "data": {
      "image/png": "[encoded data removed]",
      "text/plain": [
       "<Figure size 576x432 with 1 Axes>"
      ]
     },
     "metadata": {
      "needs_background": "light"
     },
     "output_type": "display_data"
    }
   ],
   "source": [
    "# visualize it\n",
    "plt.figure(figsize=(8,6))\n",
    "\n",
    "plt.bar(unfair_game.keys(), height=unfair_game.values())\n",
    "\n",
    "plt.ylabel('Probability')\n",
    "plt.xlabel('Result of Game')\n",
    "plt.show()"
   ]
  },
  {
   "cell_type": "code",
   "execution_count": 30,
   "metadata": {
    "scrolled": false
   },
   "outputs": [
    {
     "data": {
      "image/png": "[encoded data removed]",
      "text/plain": [
       "<Figure size 576x432 with 1 Axes>"
      ]
     },
     "metadata": {
      "needs_background": "light"
     },
     "output_type": "display_data"
    }
   ],
   "source": [
    "# visualize it\n",
    "plt.figure(figsize=(8,6))\n",
    "\n",
    "plt.bar(unfair_game.keys(), \n",
    "        height=[rv.cdf(0), rv.cdf(1)], \n",
    "        label='Cumulative Probability')\n",
    "\n",
    "plt.bar(unfair_game.keys(), \n",
    "        height=unfair_game.values(),\n",
    "        label='Unbalanced Bernoulli Discrete Probability')\n",
    "\n",
    "plt.ylabel('Probability')\n",
    "plt.xlabel('Result of Unfair Game')\n",
    "plt.legend(bbox_to_anchor=(1, 1))\n",
    "plt.show()"
   ]
  },
  {
   "cell_type": "markdown",
   "metadata": {},
   "source": [
    "Another note - a **Bernoulli** distribution is not the same as a **Binomial** distribution.\n",
    "\n",
    "- Bernoulli shows the probable results of a single trial with only 2 outcomes\n",
    "- Binomial shows the probable summed results of MANY trials with only 2 outcomes"
   ]
  },
  {
   "cell_type": "markdown",
   "metadata": {},
   "source": [
    "### Uniform\n",
    "\n",
    "The **Uniform** distribution applies when all possible values of the variable are _equally probable_. \n",
    "\n",
    "If I'm rolling a fair die, then the six possible outcomes are all equally probable. That is, the chance that I roll a 1 is 1 in 6, as is the chance that I roll a 2 etc."
   ]
  },
  {
   "cell_type": "code",
   "execution_count": 32,
   "metadata": {},
   "outputs": [
    {
     "data": {
      "text/plain": [
       "0.16666666666666666"
      ]
     },
     "execution_count": 32,
     "metadata": {},
     "output_type": "execute_result"
    }
   ],
   "source": [
    "stats.randint.pmf(k=1, low=1, high=6+1)"
   ]
  },
  {
   "cell_type": "code",
   "execution_count": 36,
   "metadata": {},
   "outputs": [
    {
     "data": {
      "text/plain": [
       "{1: 0.16666666666666666,\n",
       " 2: 0.16666666666666666,\n",
       " 3: 0.16666666666666666,\n",
       " 4: 0.16666666666666666,\n",
       " 5: 0.16666666666666666,\n",
       " 6: 0.16666666666666666}"
      ]
     },
     "execution_count": 36,
     "metadata": {},
     "output_type": "execute_result"
    }
   ],
   "source": [
    "low = 1\n",
    "high = 6\n",
    "\n",
    "# Scipy stats' randint is a discrete uniform distribution\n",
    "possible_rolls = {}\n",
    "\n",
    "for roll in range(low, high+1):\n",
    "    possible_rolls[roll] = stats.randint.pmf(k=roll, low=low, high=high+1)\n",
    "\n",
    "possible_rolls"
   ]
  },
  {
   "cell_type": "code",
   "execution_count": 37,
   "metadata": {},
   "outputs": [
    {
     "data": {
      "image/png": "[encoded data removed]",
      "text/plain": [
       "<Figure size 432x288 with 1 Axes>"
      ]
     },
     "metadata": {
      "needs_background": "light"
     },
     "output_type": "display_data"
    }
   ],
   "source": [
    "# visualize it\n",
    "plt.bar(possible_rolls.keys(), height=possible_rolls.values())\n",
    "\n",
    "plt.ylabel('Probability')\n",
    "plt.xlabel('Result of Die Roll')\n",
    "plt.ylim(0, 1)\n",
    "plt.show()"
   ]
  },
  {
   "cell_type": "code",
   "execution_count": 38,
   "metadata": {},
   "outputs": [
    {
     "data": {
      "text/plain": [
       "<scipy.stats._distn_infrastructure.rv_frozen at 0x7fd35a93eeb0>"
      ]
     },
     "execution_count": 38,
     "metadata": {},
     "output_type": "execute_result"
    }
   ],
   "source": [
    "stats.randint(low, high)"
   ]
  },
  {
   "cell_type": "code",
   "execution_count": 39,
   "metadata": {},
   "outputs": [],
   "source": [
    "# 'freeze' the distribution\n",
    "rv= stats.randint(low, high+1)\n",
    "# using dictionary comprehension (!!) to get the CDF\n",
    "cdf_roll = {roll: rv.cdf(roll) for roll in range (low, high+1)}"
   ]
  },
  {
   "cell_type": "code",
   "execution_count": 40,
   "metadata": {},
   "outputs": [
    {
     "data": {
      "text/plain": [
       "{1: 0.16666666666666666,\n",
       " 2: 0.3333333333333333,\n",
       " 3: 0.5,\n",
       " 4: 0.6666666666666666,\n",
       " 5: 0.8333333333333334,\n",
       " 6: 1.0}"
      ]
     },
     "execution_count": 40,
     "metadata": {},
     "output_type": "execute_result"
    }
   ],
   "source": [
    "cdf_roll"
   ]
  },
  {
   "cell_type": "code",
   "execution_count": 41,
   "metadata": {},
   "outputs": [
    {
     "data": {
      "image/png": "[encoded data removed]",
      "text/plain": [
       "<Figure size 576x432 with 1 Axes>"
      ]
     },
     "metadata": {
      "needs_background": "light"
     },
     "output_type": "display_data"
    }
   ],
   "source": [
    "# visualize it\n",
    "plt.figure(figsize=(8,6))\n",
    "plt.bar(cdf_roll.keys(), height=cdf_roll.values(), \n",
    "        label='Cumulative Probability')\n",
    "\n",
    "plt.bar(possible_rolls.keys(), height=possible_rolls.values(), \n",
    "        label='Uniform Discrete Probability')\n",
    "\n",
    "plt.ylabel('Probability')\n",
    "plt.xlabel('Result of Die Roll')\n",
    "plt.legend()\n",
    "plt.show()"
   ]
  },
  {
   "cell_type": "markdown",
   "metadata": {},
   "source": [
    "## Next Up: Continuous Distributions!"
   ]
  },
  {
   "cell_type": "markdown",
   "metadata": {},
   "source": [
    "### Normal Distribution\n",
    "\n",
    "Suppose I want to simulate the behavior of a certain frog that has an average weight of 15 oz. with a standard deviation of 2.5 oz.:"
   ]
  },
  {
   "cell_type": "code",
   "execution_count": 44,
   "metadata": {},
   "outputs": [
    {
     "data": {
      "text/plain": [
       "array([13.92270565, 15.98502416, 16.68013996, 12.08809505, 18.45868004,\n",
       "       17.16495998, 12.99130795, 15.52741557, 13.75769319, 17.83689337,\n",
       "       16.30217225, 17.49769932, 12.89462857, 16.13184841, 20.79018633,\n",
       "       15.15133191, 17.15375502, 15.60256934, 13.42721589, 15.59488683,\n",
       "       15.95757879, 14.2105568 , 15.55316357, 13.29773794, 14.11259021,\n",
       "       11.31578909, 20.23559769, 15.04110509, 14.24337731, 13.63024278,\n",
       "       12.52749108, 14.60956147, 12.05685267, 11.86428436, 12.24375721,\n",
       "       10.11839405, 17.80415749, 10.1208434 , 15.2384529 , 15.97083312,\n",
       "       16.50473519, 13.13115706, 19.77488415, 15.96873587, 16.77658465,\n",
       "       12.69892564, 14.21269783, 14.32311246, 16.98058191, 12.95101128,\n",
       "       16.98195165, 14.98908227, 13.29738642, 11.05366853, 19.08755251,\n",
       "       15.96167034, 10.93577711, 16.19010482, 18.8554878 , 19.57561682,\n",
       "       14.2619745 , 16.2295685 , 11.25051572, 17.39762465, 12.31784583,\n",
       "       14.23063682, 14.98260021, 13.72185279, 16.39370068, 15.26809282,\n",
       "       18.56568326, 13.70493208, 18.44945759, 15.12213827, 11.85421075,\n",
       "       17.86807437, 13.46531775, 21.9093271 , 17.64881043, 12.44874349,\n",
       "       17.04215241, 12.18402039, 19.18312072, 15.71046193, 12.07319   ,\n",
       "       12.69772948, 12.13829974, 13.5302595 , 13.93741188, 15.50009492,\n",
       "       17.36539315, 14.31065162, 15.74327959, 14.96978975, 14.32208451,\n",
       "       11.77453792, 13.04334658, 14.76117983, 11.67711157, 16.60795254,\n",
       "       10.27140971, 12.03431871, 16.15576515, 15.27090362, 18.14455888,\n",
       "       19.02650737, 16.87419911, 12.52314373, 13.67766742, 20.85394917,\n",
       "       18.17272646, 14.88922546, 10.14936961, 14.99168514, 18.04775185,\n",
       "       17.81250979, 16.27723514, 17.15179176, 12.26033737, 14.82423915,\n",
       "       15.36656735, 15.13243011, 12.99624113, 14.06075446, 16.14588158,\n",
       "       17.02563794, 14.58686931, 14.59905822, 13.8559661 , 15.85607051,\n",
       "       12.93425211, 12.75420983, 15.13493396, 14.46952272, 11.2382257 ,\n",
       "       17.45019957, 11.72038109, 15.65313722, 16.11731948, 15.16630713,\n",
       "       17.11452287, 17.04023698, 16.25331776, 17.84640526, 12.16517748,\n",
       "       11.75731378, 18.41432154, 14.89650513, 13.85031878, 13.9317186 ,\n",
       "       15.55190032, 14.74263834, 16.56465606, 16.11463453, 18.13116954,\n",
       "       19.4750597 , 14.52585783, 17.59773723, 11.9071137 , 16.7580294 ,\n",
       "       16.3576801 , 20.59367801, 14.0773088 , 11.38681515, 13.8211552 ,\n",
       "       14.1809065 , 15.47110004, 14.90827166, 16.98143643, 12.61803112,\n",
       "       12.3650058 , 13.86209619, 11.25083554, 13.08434283, 20.43077405,\n",
       "       15.49268708, 14.57999924, 11.55423429, 11.51082139, 18.88979931,\n",
       "       16.81747606, 15.70867558, 19.9822756 , 17.63012305, 16.57177797,\n",
       "       15.7600095 , 15.30198321, 13.10861433, 16.03089283, 16.68779143,\n",
       "       12.69515829, 17.05074527, 13.33346834, 12.95282312, 13.66396818,\n",
       "       14.588562  , 16.37106109, 16.56650375, 14.3526157 , 14.79995044,\n",
       "       14.08915453, 16.67974854, 13.68564468,  9.97216816, 14.19845813,\n",
       "       17.23037383, 12.95886555, 16.85032512, 15.63897572, 14.00901776,\n",
       "       16.07810608, 16.61282197, 13.483352  , 13.45390934, 16.68961235,\n",
       "       14.28057327, 13.79544356, 14.36391418, 14.4633576 , 16.23962631,\n",
       "       15.66422256, 15.71841434, 16.51527347, 17.39783213, 17.82188804,\n",
       "        9.84517624, 15.36115698, 15.85288665, 14.01609223, 19.02397744,\n",
       "       16.74366163, 17.68368831, 15.220314  , 10.73761938, 12.25654503,\n",
       "       15.88592408, 17.54965442, 14.18408389, 17.62368429, 12.15557826,\n",
       "       13.32941302, 11.70961685, 12.88902636, 13.73844156, 18.42815121,\n",
       "       15.78313222, 16.48310975, 17.4999645 , 19.53289194, 17.65975091,\n",
       "       16.80346948, 12.62487472, 16.09279934, 10.86823859, 13.88479868,\n",
       "       12.34602266, 14.39351288, 15.15195619, 16.38921365, 15.92523199,\n",
       "       15.10037967, 15.01873087, 16.2344087 , 14.92181068, 15.88266689,\n",
       "       13.89162008, 11.66570574, 14.63738301, 13.18234842, 14.39232627,\n",
       "       18.04993381, 13.56645619, 16.20202381, 14.95342221, 11.02954818,\n",
       "       11.57210238, 15.41072545, 20.41514601, 11.5866164 , 14.14678834,\n",
       "       15.25113103, 14.05798147, 10.98630888, 17.72424952, 12.15826698,\n",
       "       11.13714548, 20.88455847, 11.0001548 , 13.44635982,  9.20891334,\n",
       "       13.75220936, 11.18913983, 17.93828403, 13.36591569, 16.73841163,\n",
       "       13.82356637, 17.00960868, 14.98920845, 15.79032224, 15.44473136,\n",
       "       12.90115122, 14.20184843, 16.22679875, 12.3345954 , 14.93120905,\n",
       "       12.5685253 , 16.06857072, 15.88863766, 15.28104408, 15.20970129,\n",
       "       13.61527383, 17.29677028, 14.22088658, 14.90018215, 16.30804595,\n",
       "       18.47062158, 15.57017514, 13.37829452, 14.41710367, 16.19878145,\n",
       "       12.98785742, 14.86821898, 14.50532335, 14.98347155, 13.32329546,\n",
       "       13.87143322, 14.96557744, 18.51142373, 11.62411473, 17.57961614,\n",
       "       12.39921227, 17.70651723, 10.45625049, 17.0848136 , 11.86407492,\n",
       "       20.3423201 , 11.41325787, 11.81463599, 15.80775837, 11.40189392,\n",
       "       14.97561209, 11.42215607, 13.87751678, 16.73677326, 16.70250429,\n",
       "       14.2134491 , 19.01274988, 17.87855469, 13.34996592, 14.47211105,\n",
       "       17.42592646, 17.79002155, 14.77911395, 16.97243409, 15.6879905 ,\n",
       "       12.76515269, 18.10870921, 19.43851362, 15.84037153, 15.61811221,\n",
       "       13.21898425, 10.60203804, 12.99733358, 16.08219579, 14.93073165,\n",
       "       12.28031293, 12.91958597, 15.11025537, 13.51655822, 12.3221527 ,\n",
       "       18.74364098, 16.0253304 , 11.8479246 , 20.58103806, 18.94800993,\n",
       "       16.19843753, 16.73845391, 14.04406189, 13.54492228, 14.29101339,\n",
       "       14.48118132, 15.25118262, 13.36942609, 13.33651314, 13.60453184,\n",
       "       15.89572058, 12.84281936, 15.6210458 , 15.70740182, 16.21469059,\n",
       "       22.17835467, 11.88282824, 18.70600949, 13.91344896, 12.48537759,\n",
       "       14.70001311, 10.75836678, 18.29442737, 15.50959963,  9.71552105,\n",
       "       15.43875718, 14.76996475, 16.55135141, 13.62940888, 15.16292099,\n",
       "       10.5038315 , 11.01784925, 15.25362782, 15.29843519, 13.62818176,\n",
       "       14.03790783, 16.74482662, 14.88956249, 11.09446681, 14.75881834,\n",
       "       11.12618012, 16.50053784, 13.3159557 , 14.42275785, 14.60092448,\n",
       "       18.38239813, 17.29961286, 14.54744921, 18.81834617, 12.81719275,\n",
       "       14.96544855, 10.57716538, 14.75752977, 16.02069288, 11.22567995,\n",
       "       16.79330655, 10.65642746, 13.74186203, 12.44896335, 11.96689782,\n",
       "       13.20331466, 19.51470993, 14.49459594, 15.90069973, 14.06861133,\n",
       "       16.38590297, 14.58236113, 11.71258076, 14.14996485, 13.34486221,\n",
       "       13.50023895, 13.82911107, 14.80472105, 13.93303918, 15.77620193,\n",
       "       16.06881329, 21.48843892, 14.24469372, 15.20719555, 13.88281245,\n",
       "       19.92633377, 13.83604531, 15.26677453,  9.850651  , 14.4056914 ,\n",
       "       12.77556416, 14.77313505, 15.72113265, 18.56641064, 16.27395742,\n",
       "       19.42919152, 11.11225737, 17.1787311 , 13.54357029, 15.23376199,\n",
       "       14.07360265, 10.8719365 , 16.6278956 , 16.33187656, 21.27277272,\n",
       "       17.05734272, 15.5424537 , 11.78370276, 16.55068305, 15.18235219,\n",
       "       16.91004892, 14.70194929, 17.48938363,  8.38473908, 14.45644262,\n",
       "       16.58588437, 12.5290994 , 12.25773776, 18.09164634, 17.50159761,\n",
       "       13.11408976, 12.74000286, 14.67053289, 15.82413039, 12.35559615,\n",
       "       15.24751707, 11.20727644, 17.88885877, 16.53779307, 12.88469591,\n",
       "       13.9618435 , 13.32413965, 10.4325602 , 10.46448369, 14.12074457,\n",
       "       16.62263315, 18.25347466, 18.39382063, 12.77706992, 16.52228117,\n",
       "       14.82860685, 18.75424726, 18.42245225, 17.0769396 , 17.01628234,\n",
       "       14.31817465, 16.0094615 , 16.48414447, 12.3723198 , 14.24019466,\n",
       "       16.66927375, 16.5010567 , 15.14763121, 11.62733909, 18.35231316,\n",
       "       15.25465704, 11.03125764, 16.47738927, 15.16632347, 12.70864778,\n",
       "       20.31810161, 16.88615188, 14.7991454 , 13.93867924, 16.6216647 ,\n",
       "       13.46738115, 17.31063891, 15.22356854, 14.63996209, 15.07209215,\n",
       "       15.10531948, 15.1305235 , 12.55682195, 15.74116312, 15.07695492,\n",
       "       19.73355793, 14.07697989, 15.37577913, 11.06334435, 14.15765434,\n",
       "       16.10285003, 16.24274383, 13.76172117, 16.34180191, 14.09661387,\n",
       "       15.30355313, 16.08460462, 10.89294265, 18.84045553, 14.1790292 ,\n",
       "       15.44491864, 13.32427978, 17.27445894, 14.80873212, 14.2111651 ,\n",
       "       10.78684363,  9.66744639, 12.50926942, 17.31531857, 19.52074187,\n",
       "       17.60138075, 20.69801505, 17.54898337, 15.77938654, 16.09380592,\n",
       "       18.08992385, 10.44145272, 21.78470051, 13.25107965, 12.78429291,\n",
       "       12.16558805, 20.38404259, 17.84861947, 16.82564344, 14.92860493,\n",
       "       13.27785153, 12.8368153 , 12.29877142, 15.97780961, 13.45081327,\n",
       "       10.87589985, 14.64587616, 13.75917268, 13.63478673, 12.54040954,\n",
       "       13.47093084, 18.70742366, 15.61322193, 11.56506857, 13.87862368,\n",
       "       16.18270862, 13.49955946, 14.43129681, 17.69260762, 15.41401494,\n",
       "       13.25220372, 20.35826717, 19.15213003, 16.85311439, 12.7144581 ,\n",
       "       10.0428534 , 16.25093539, 17.22115489, 13.48014453, 17.15970126,\n",
       "       15.77885835, 11.05550403, 12.18240192, 13.57563312, 11.60316652,\n",
       "       16.60739896, 20.68503643, 10.24978334, 18.68499343, 14.68770576,\n",
       "       14.42709518, 11.56984293, 12.58503726, 15.89078779, 16.7086774 ,\n",
       "       14.37694526, 12.06595481, 13.33247331, 13.82111776, 16.52151345,\n",
       "       11.56760218, 14.29952932, 16.43134419, 13.02380169, 17.78796257,\n",
       "       10.09800067, 22.53681786, 14.62172934, 13.5193864 , 17.84610055,\n",
       "       12.58906076, 14.16754639, 13.96861324, 15.09556358, 14.59882876,\n",
       "       18.87249065, 15.08664764, 11.22201559, 14.7342958 , 16.04324106,\n",
       "       15.57095548, 19.69458404, 13.9896366 ,  8.63843371, 12.67093644,\n",
       "       11.44803446, 14.30980674,  9.67601454, 18.21135645, 15.86371652,\n",
       "        9.49297227, 15.86349721, 10.57639863, 15.86960879,  9.82278857,\n",
       "       16.03625283, 14.75300095, 16.45918957, 17.66213029, 15.66415669,\n",
       "       15.93313432, 13.45730689, 15.97318163, 17.11805111, 11.48692723,\n",
       "       11.94079054, 18.10466387, 14.26605847, 13.487395  , 13.70201724,\n",
       "       15.1919328 , 13.68362091, 16.96545374, 15.52480024, 11.67264977,\n",
       "       16.09434734, 12.1148669 , 16.59113143, 19.07399182, 15.58625818,\n",
       "       15.72858088, 13.75818196, 15.15155556, 18.05956997, 13.60736582,\n",
       "       11.70548748, 17.14953358, 10.13522263, 10.73913856, 15.35954951,\n",
       "       12.39438515, 18.88092378, 12.40526101, 14.66226523, 14.49192522,\n",
       "       14.34598433, 10.37046295, 13.9627583 , 13.97875056, 16.80340627,\n",
       "       11.82503138, 18.71035905, 15.45565071, 16.16519497, 17.72578119,\n",
       "       18.52633557, 15.59188412, 14.61314006, 13.68958888, 13.74738409,\n",
       "       14.48492634, 12.97026236, 15.67274498, 15.56366269, 18.55047642,\n",
       "       14.16692027, 16.53015403, 16.40221548, 15.94137978, 13.99421291,\n",
       "       13.99487596, 16.0746595 , 13.67046273, 16.38923274, 18.67969666,\n",
       "       12.39132847, 21.90392732, 16.5755963 , 16.47076243, 18.94714269,\n",
       "       16.69168343, 17.0359997 , 15.57853079, 15.03108453, 14.37580319,\n",
       "       13.71222532, 11.71954043, 15.93709794, 17.17165476, 13.55738446,\n",
       "       16.16511781, 11.28894954, 15.9149824 , 14.52098989, 12.86094448,\n",
       "       12.83543917, 15.36295943, 16.00526336, 17.67364052, 13.72187647,\n",
       "       12.6331495 , 14.66188809, 17.00737278, 16.18624848, 15.98154854,\n",
       "       18.76379605, 14.80241702, 10.48672872, 16.07910499, 18.3870208 ,\n",
       "       16.30432512, 19.71874567, 11.12593433, 18.03751092, 15.62601352,\n",
       "       15.19835896, 18.48889901, 12.10868651, 19.29635911, 10.88198663,\n",
       "       11.07223191, 17.22614016, 14.74332441, 15.30742692, 13.86992514,\n",
       "       10.79837559, 14.389956  , 11.13988549, 14.3618292 , 14.64217675,\n",
       "       18.55444794, 16.6057124 , 12.00357033, 15.40777354, 20.36377571,\n",
       "       17.50504041, 17.20397137, 11.94972333, 13.68901361, 11.91516399,\n",
       "       16.80845462, 13.64583665, 15.10502927, 14.09694974, 14.55046221,\n",
       "       15.35820316, 15.72380905, 11.11019605, 15.12043011, 17.68660984,\n",
       "       13.29360099, 14.88191832, 15.60631615, 18.26665233, 13.29554939,\n",
       "       13.60452086, 14.78717561, 14.91857643, 19.07133728, 15.03195088,\n",
       "       15.15941977, 10.80386022, 14.53134498, 14.61974513,  9.70028905,\n",
       "       13.19308768, 16.11618147, 16.77531524, 14.37810409, 13.01439119,\n",
       "       16.42587319, 16.53801748, 14.97650804, 15.60423609, 17.8178843 ,\n",
       "       14.1814576 , 10.86749184, 18.55076894, 17.93983993, 17.21360419,\n",
       "       13.8800697 , 19.25377794, 15.98781897, 18.23058891, 15.95977593,\n",
       "       19.12638044, 14.13588432, 12.56243196, 14.99567052, 12.47842341,\n",
       "       11.76736943, 14.63911578, 13.92545769, 15.44199138, 14.99114326,\n",
       "       14.11636371, 16.85327822,  8.68785638, 14.51475045, 15.43634171,\n",
       "       15.08386299,  9.89084335, 17.03325275, 16.73788534, 20.24424555,\n",
       "       16.71698667,  7.15048975, 14.09770992, 18.52049885, 14.9462291 ,\n",
       "       12.73018354, 14.91765749, 16.87276367, 13.66626836, 14.26342786,\n",
       "       16.44025437, 15.19124836, 15.93975897, 17.23638017, 15.68668955,\n",
       "       21.4532947 ,  7.16255637, 18.79587251, 14.32838088, 12.45674484,\n",
       "       16.59723553, 13.95563331, 15.74427611, 15.11365663, 15.20287082,\n",
       "       18.19457163, 18.46423818, 13.68086896, 13.40865511, 17.22382067,\n",
       "       18.26995288, 12.26627646, 17.61098729, 16.13840456, 15.70810634,\n",
       "       19.16779221, 15.25876286, 14.94346088, 13.34725872, 14.06276393,\n",
       "        9.33647927, 15.06331878, 14.26668663, 16.86974929, 16.90415928,\n",
       "       14.3031834 , 16.2141471 , 16.46790226,  9.61365977, 14.26456773,\n",
       "       16.96225292, 15.83147862, 17.43492297, 10.1303118 , 15.80645452,\n",
       "       10.26845113, 17.183266  , 15.90760843, 12.74015458, 14.92824444,\n",
       "       12.35334587, 13.50009352, 15.86606335, 13.07773084, 16.58015708,\n",
       "       17.4392298 , 15.30631117, 15.46064847, 16.55412968, 13.06773554,\n",
       "       15.78543468, 16.83942309, 15.9612645 , 15.0454233 , 12.59114257,\n",
       "       17.0370585 , 16.90319153, 13.80515577, 16.93770473, 14.74400727,\n",
       "       15.00745384, 13.27652179, 17.71033998, 17.37366223, 11.98450865,\n",
       "       10.96485647, 14.48077044, 15.37756612, 14.10871315, 12.73120726,\n",
       "       12.93921287, 13.87182185, 14.4199774 , 15.17217071, 13.17265305,\n",
       "       13.75783887, 18.11774901, 11.54597493, 17.1629884 , 11.32101436,\n",
       "       18.83654924, 14.17110545, 13.00215546, 12.20940926, 16.37652106,\n",
       "       15.09329763, 15.58168482, 12.96305678, 13.55958701, 13.95049768,\n",
       "       15.9708279 , 18.18620441, 19.54343594, 12.19399234,  9.70846328,\n",
       "       15.9196582 ,  7.85353228, 12.68695593, 17.68805791, 14.27365235,\n",
       "       14.44544902, 16.36231639, 15.25447105, 14.46661318, 11.481418  ,\n",
       "       18.18027423, 17.07892374, 14.46684114, 15.55011193, 16.72677904])"
      ]
     },
     "execution_count": 44,
     "metadata": {},
     "output_type": "execute_result"
    }
   ],
   "source": [
    "rv = stats.norm(loc=mu, scale=sigma)\n",
    "rv.rvs(size=size)"
   ]
  },
  {
   "cell_type": "code",
   "execution_count": 42,
   "metadata": {
    "ExecuteTime": {
     "end_time": "2021-10-08T21:00:03.214886Z",
     "start_time": "2021-10-08T21:00:03.211033Z"
    }
   },
   "outputs": [
    {
     "name": "stdout",
     "output_type": "stream",
     "text": [
      "Continuous Random Variable: \n",
      " [17.30874911 16.13427615 15.30811494 17.0610611  15.39165158 14.69045584\n",
      " 21.72756999 13.43198924 13.7298486  15.94601453 15.83022161 14.26723345\n",
      " 17.69987365 13.38843059  9.50464738 10.43201983 13.23449131 15.50998581\n",
      " 12.66557404 17.62970939 12.86741952 11.69084286 16.61741677 13.81723274\n",
      "  9.32322942 16.26206676 14.62210452 15.37949883 12.3098861  11.10030548\n",
      " 17.10386992 15.99181514 14.58746445 13.6189031  14.74998503 16.79300753\n",
      " 15.61233271 15.36791944 10.92100692 18.88499058 18.79147367 15.18182717\n",
      " 15.65248837 15.99165925 16.70075286 12.65736933 14.44976161 17.22729764\n",
      " 13.84498737 15.40219524 18.44319983 12.60862137 13.95493811 16.396225\n",
      " 12.69644502 11.62804553 15.8730459  17.09947878 15.08723927 14.83286623\n",
      " 17.05222316 15.98590727 15.93256247 13.52867148 19.80711474 13.85710901\n",
      " 14.34002123 10.00971977 14.03404953 14.90147528 12.37453789 20.21999642\n",
      " 12.63814568 12.51660425 12.00757891 15.57816702 15.31778332 16.10333882\n",
      " 13.7272621  20.73361895 15.35418834 18.18650777 18.26728606 16.31603504\n",
      " 15.75442309 18.92313679 14.99811399 14.21659903 10.61795947 14.79281885\n",
      " 14.80822235 14.7830489  10.46938065 17.11965433 14.41024777 16.83022584\n",
      " 15.05381084 11.9353615  17.44672673 17.47487452 16.28254626 16.92109492\n",
      " 15.48552301 13.42175427 16.69769506 14.34567198 13.78525167 21.45922451\n",
      " 16.21251175 13.30524708 15.63759727 14.61115186 16.39876592 15.60258253\n",
      " 14.46723983 11.94830701 17.27579436 14.73486995 18.65663659 14.6996394\n",
      " 11.12936051 14.95947152 14.36577273 14.9050604  12.14475104 13.71182233\n",
      " 13.90627156 16.56133225 13.41203033 15.52884275 17.9332073  17.51258161\n",
      " 13.41700022 14.09979181 12.86971362 12.03218911 19.32532042 16.61819606\n",
      " 19.86647758 19.00944504 17.58349089 16.48684105 10.75741215 14.89863169\n",
      " 17.59872901 15.36400301 12.25689385 14.7569642  16.18295278 12.43401937\n",
      " 18.07380668 13.92422908 13.50542356 17.48249963 17.86793734 14.15443966\n",
      " 17.98761679 16.48079921 18.6959987  16.70752332 15.51998588 11.87405949\n",
      " 15.81025853 10.24580151 15.25313613 12.77937435 16.53158244 12.27785451\n",
      " 16.00566618 12.89406185 15.86149882 17.28319713 14.68239829 18.08994013\n",
      " 14.1119148  12.10229454 12.65574249 13.09770266 16.0717189  16.08507928\n",
      " 15.86384685 19.88468002 13.36157524 15.49289674 13.92847704 17.01005008\n",
      " 15.22441852 15.70617301 16.77080221 16.90778578 15.37522874 14.635424\n",
      " 12.84384312 14.89024837 16.64238045 13.98836607 16.34104807 15.12036468\n",
      " 15.47177902 14.81862177 14.81450054 14.32363065 13.82150018 14.60698217\n",
      " 16.1419291  16.56950077 12.6825235  15.22037446 13.55049415 13.29495799\n",
      " 16.11836759 15.28629469 13.00323702 14.41257068 12.11852144 12.08877853\n",
      " 13.39296907 16.41251779  7.32212232 15.2009773  14.32982055 12.71537114\n",
      " 14.24501541 12.69756741 20.0509228  15.28342384 12.9036161  15.30651691\n",
      " 15.40717651 14.33552552 16.29568743 15.49440927 12.61806322 18.63658809\n",
      " 16.69562559 17.14873147 12.1240282  14.28133962 15.62593597 13.12353514\n",
      "  9.67270339 12.34023557 21.21253016 18.34285963 13.67760962 16.7605792\n",
      " 16.80908805 13.1133201  13.75589195 15.89930881 18.99285359 13.72028271\n",
      " 14.29550597 15.31205448 15.74686562 12.54543443 15.03469614 16.44025713\n",
      " 17.21143894 12.11954001 15.60009554 19.10833314 17.12452923 15.15434845\n",
      " 11.67549121 16.88573374 11.132545   17.99994742 14.42216954 17.85328134\n",
      " 12.83470437 13.83433175 16.24960143 15.61013058 10.67814793 16.32241205\n",
      " 14.01787806 18.36852562 15.12975199 17.99666414 18.13994232 16.58178781\n",
      " 11.95982061 13.21566004 15.07403825 16.10709224 14.24797629 14.38237676\n",
      " 13.42151067 13.70092016 13.89055995 15.86640234 18.40535292 14.14433549\n",
      " 14.47214783 15.15094366 16.33752234 16.17250181 14.44836516 17.22197952\n",
      " 17.14329766 14.48298546 16.97448242 10.12332577 10.7566402  17.90509884\n",
      " 21.78158371 14.66169496 17.08406852 16.66863134 16.0691342  10.92455454\n",
      " 14.12215825 13.52419523 15.93595535 14.81387512 19.99905893 14.4575832\n",
      " 12.43985454 18.71408467 18.17427366 13.08696403 14.79356216 17.50080195\n",
      " 17.68743351 18.33487494 14.73057246 17.62216186 17.01721695  8.1844826\n",
      " 12.81291845 13.99366299 12.64172194 13.81300097 18.96986101 13.99184132\n",
      " 20.48059152 17.96461741 12.71649515  8.84322094 18.13871029 18.75173573\n",
      " 20.79933147 18.68398671 13.48427112 17.06483992 16.08887848 14.02830219\n",
      " 14.66407985 14.16859971 15.74516409 13.3268839  17.45463113 11.65059989\n",
      " 12.64761863 17.4585759  12.22464524 14.45880797 12.17380817 14.04405353\n",
      " 14.36320872 11.34917497 15.85943855 14.6029187  15.53860157 15.44950448\n",
      " 16.58042681 13.51013977 10.49764969 14.24773695 15.08894981 15.76015297\n",
      " 13.56329527 15.63572136 18.21751226 14.78542925 13.97321736 20.23547017\n",
      " 19.13411091 11.72479723 10.73351073 16.64266898 17.44282964 11.70674305\n",
      " 14.64781987 17.26688588 12.9071991  15.19435376 14.61331245 14.12577318\n",
      " 12.0087114  12.55681937 10.04196147 13.50814659 16.04083287 13.05968757\n",
      " 13.67482814 13.63658289 15.81832258 15.97937785 14.32625083 17.51388699\n",
      " 16.73587929 12.25436633 15.70162001 15.85988094 11.2942717  18.97242237\n",
      " 18.03461399 16.6533328  20.97166105 14.99122856 12.26401097 13.84939121\n",
      " 10.64480368 13.99820459 18.15432516 12.69039349 14.72177174 18.63986875\n",
      "  8.75264788 18.62584814 14.23831283 20.16211685 13.6275237  12.40397861\n",
      " 12.08434332 11.4568658  13.97573451 20.37978078 15.75315759 14.10448871\n",
      " 16.0894697  17.90037367 13.73399025 12.66192671 14.84715307 17.38788682\n",
      " 13.61265412 17.34492879 18.08210597 12.83399831 16.56722824 13.0042363\n",
      " 11.72823471 15.25695316 10.8285207  16.91882917 17.86473281 14.69006011\n",
      " 16.67983661 11.18874112 14.63315901 16.92551721 17.98025942 16.47611026\n",
      " 18.87894877 14.29760233 14.27706506 12.61077333 19.06685063 16.80983785\n",
      " 16.15033787 18.29168657 13.74136667 12.18719109 16.88990027 18.48966851\n",
      " 13.6637132  13.55964098 11.33715697 15.6109261  14.46498064 14.44114366\n",
      " 13.70251103 13.71159142 15.60680401 12.55058094 17.7959898  15.97495334\n",
      " 17.14593485 15.3828867  19.98311617 11.98794632 13.23415501 19.80828664\n",
      " 17.22712776 13.89979647 17.45826754 12.49810612 14.28537109 16.14170639\n",
      " 13.56268812 16.21694456 12.309304   17.69139237 18.48031387 10.14009882\n",
      " 17.38255327  6.8241094  11.52292957 18.56668626 13.50387103 14.15463782\n",
      " 12.66535987 17.06824454 17.09442691 14.06934407 13.5953061  16.85156919\n",
      " 14.79603759 15.74768041 14.91435396  7.98764768 14.2595565  17.10789437\n",
      " 10.61361331 12.96589583 15.7989296  13.43407793 11.66584772  9.59515447\n",
      " 13.87419182 12.57187239 16.92857682 12.00802928 12.02744781 19.08474466\n",
      " 15.03223727 13.67410744 13.70562575 14.38052484 12.11810994 15.67627666\n",
      " 12.21026043 12.34313999 11.77744221 11.6474728  16.76020897 15.33470912\n",
      " 14.66877064 17.09087862 14.27489287 11.55354475 16.48452907 15.26857026\n",
      " 18.92665151 13.27449171 18.99883515 14.41934692 17.97031282  9.61724148\n",
      " 16.22399116 14.77233539 16.23791828 14.75510394 17.50016769  9.60141708\n",
      " 14.82314853 10.63746909 16.84426114 17.90851622 14.39208905 20.87026926\n",
      " 12.03092366 13.90526842 12.49252505 15.4179547  12.90209925 19.62311077\n",
      " 13.71303535 15.55309432 12.98725543 17.12571799 12.79190782 12.41930993\n",
      " 13.116773   18.51146107 14.76824868 14.35491965 14.55377668 12.03217092\n",
      " 13.08583857 15.20003059 16.26642675 10.40649194  8.7661968  15.78893914\n",
      " 14.48663348 12.36732563 14.36089799 14.10265278 15.91696561 16.00898574\n",
      " 13.10380475 18.4174063  14.82843207 18.67105562 12.74544018 16.38367905\n",
      " 13.57180738 14.25587753 13.65862127 12.47989836 15.99703157 16.99080981\n",
      " 15.40876325 19.87812368 12.34845903 16.39427936 14.08587825 16.69858941\n",
      " 14.37078605 17.94390669 14.83443792 16.6345479  18.24793047 14.73484853\n",
      " 15.76327219 14.57552196 16.48133301 16.36745552 15.46271715 20.20000133\n",
      " 14.46459141 17.03784153 14.52272036 15.18757271 13.3854583  16.60760405\n",
      " 16.81083228 12.98838649 16.4657654  17.32985996 12.2912321  14.98636532\n",
      " 18.50750544 12.42267771 16.10826253 15.46886483 16.14775484 18.16726054\n",
      " 17.92556419 16.94019513 16.48677575 13.15097131 16.03988694 17.73092005\n",
      " 16.95865547 14.85844653 13.81450981 15.34250663 14.9927973  14.860278\n",
      " 14.01772427 15.03831702 12.50636012 16.30828766 13.56097897 13.17346851\n",
      " 13.5155894  15.75138499 16.49924331 16.10909731 11.28941483 12.68011316\n",
      " 15.38449255 13.03764477 16.79076393 12.13399203 18.22542142 16.28485603\n",
      " 13.56852685 13.98132978 13.8439747  18.01213198 15.51027529 17.54146644\n",
      " 14.26001619 18.54559895 14.87363822 12.90539117 14.06526692 12.53526788\n",
      " 17.21843905 12.91615046 17.97473407 10.2247139   8.16713845 17.87448206\n",
      " 13.65373274 15.19721262 14.22615818 12.14804378 16.10593604 12.38203513\n",
      " 17.09031014 13.39052855 13.69821115 10.66392166 11.71278346 14.59511984\n",
      " 14.59370992 13.86697318 15.28254022 17.58843661 14.71936048 11.61970592\n",
      " 12.79991533 15.96220853 14.61422898 13.93352646 19.18678527 15.14876076\n",
      " 13.12746793 12.11882027 16.7576309  13.53309953  9.62645313 14.88453482\n",
      " 15.63264212 12.0544003  20.01851012 11.38770953 14.27269001  9.65397031\n",
      " 16.65162531 15.78388159 15.68805895 17.06276161 17.21371733 15.5503037\n",
      " 18.0556764  13.67164297 12.60119513 13.47031339 13.41969677 18.26978603\n",
      " 10.86561745 15.26242064 14.37264153 13.76700008 13.65898914 16.46415354\n",
      " 14.46728074 11.94403526 15.90733429 14.76001333 16.34255603 13.79522406\n",
      " 15.59969889 14.85712906 16.40971515 15.63547667 14.5406195  10.79677309\n",
      " 18.50602989 12.82939731 11.56533574 14.14020436 16.89747987 12.7301118\n",
      " 14.55834967 12.36835214 15.10161634 14.79336687 15.05583701 15.88936657\n",
      " 15.97893614 16.64000056 15.65374276  9.64589138 19.91373887 14.28052724\n",
      " 14.96065039 16.35664502 18.07650354 13.92215148 16.95241847 17.20517481\n",
      " 17.18209517 20.44319302 16.75946774 15.58377562 16.71212286  9.52394232\n",
      " 13.73455485 13.00648079 12.55640681 13.37996349 10.98763001 16.02205559\n",
      " 19.46099428 18.09710778 14.22584569 14.00019165 13.7510043  16.13960627\n",
      " 18.04294754  9.9974931  17.23632401 14.42929736 15.17976551 13.65975455\n",
      " 10.06874219 16.42637718 13.47549074 17.67928126 13.98215079 14.72815356\n",
      " 12.40118496 13.01020588 13.50133259 12.11874003 15.27130391 13.34620236\n",
      " 11.56943311 18.58493505 15.47795307 17.26949323 15.09303364 16.06835037\n",
      " 16.38513482 16.34005366 15.22253235 14.83317081 13.72688067 16.40649696\n",
      " 14.83653871 14.74768901 16.07268605 17.19411316 14.74200129 18.20076915\n",
      " 15.6718654  16.09164801 15.34812242 17.11118532 13.54531471 11.54748184\n",
      " 14.99570557 13.67988291 13.23102292 18.44490866 12.83087256  8.25814493\n",
      " 14.89864643 11.98610353 14.77424485 16.35576827 14.8916747  13.21850069\n",
      " 18.99815466 14.00396343  4.65921001 10.38661222 17.32161127 11.16171582\n",
      " 19.08890616 12.78467962 17.78185499 12.93564479 14.83694313 13.5475056\n",
      " 14.56951462 18.23833299 14.87991938 11.36494899 20.43199625 12.94197623\n",
      " 20.28972203 14.61389001 15.03537442 15.38245769 17.29287912 15.84419663\n",
      " 12.91325037 16.68953174 11.10474083 13.95170516 17.05147579 13.82976748\n",
      " 16.27223059 13.49399736 16.11624898 14.80810514 14.9551262  19.69015396\n",
      " 17.24660043 14.26905658 18.39452199 21.92096932 14.58908072 15.11837761\n",
      " 17.70343817  9.8215508  16.95214362 14.91742704 15.05522839 10.80898546\n",
      " 12.68931805 15.94073128 14.20452836 12.07955151 12.65699811 13.70167552\n",
      " 17.35197094 11.61948417 20.12300998 13.7882971  13.66704977 14.25195785\n",
      " 12.56388779 16.46501872 11.71967388 14.72145045 12.46059704 15.95808962\n",
      " 13.45663799 14.01190733 16.90540273 18.93457984 15.65620636 13.87590749\n",
      " 14.80159125 16.26283908 14.85760559 13.57834151  9.88047768 10.37208262\n",
      " 17.78153441 13.95891344 11.44131523 14.10369287 18.13758908 13.09554528\n",
      " 14.70829756 12.59986424 19.92908962 12.82397682 14.82795088 15.46115156\n",
      " 15.32382327 15.28964519 13.0359681  13.47037655 13.2324232  14.33559034\n",
      " 19.09725689  8.94860221 18.30156516 13.08321254 12.39218094 14.07653759\n",
      " 16.10844443 16.23487438 12.68426961 13.49303986 17.47695528 20.00800057\n",
      " 15.81479548 14.93866566 11.16428965 15.27816814 15.00470999 16.06049689\n",
      " 16.04329317 16.24300634 11.56802095 13.49425652 16.30569968 16.17128539\n",
      " 18.97119582 10.4275934  16.41815067 14.88071381 13.78915414 14.33965122\n",
      " 15.04111977 13.22745644 19.0048749  15.72631487 10.97446006 17.90610405\n",
      " 14.59803267 15.38574259 15.61681485 15.43285393 18.98439028 11.98337158\n",
      " 13.69979105 11.78665231 20.94063734 15.03062598 15.41654743 15.02075534\n",
      " 13.85847459 16.67206132 14.07595071 16.37847305] \n",
      "\n"
     ]
    }
   ],
   "source": [
    "# Create required parameters for the distribution \n",
    "# mean of the data\n",
    "mu = 15\n",
    "# standard deviation of the data\n",
    "sigma = 2.5\n",
    "# number of observations to be created\n",
    "size = 1000\n",
    "\n",
    "# Create a discrete distribution with the given parameter values\n",
    "# Use rvs to create random values within this distribution\n",
    "normal = stats.norm.rvs (loc=mu, scale=sigma, size=size)\n",
    "\n",
    "print(f'Continuous Random Variable: \\n {normal} \\n')"
   ]
  },
  {
   "cell_type": "markdown",
   "metadata": {
    "hidden": true
   },
   "source": [
    "The **mean** of our probability density function (PDF) affects where it is centered on the x-axis. This is the `loc` parameter in the `stats` module.\n",
    "\n",
    "The two plots below have the same shape, but different centers."
   ]
  },
  {
   "cell_type": "code",
   "execution_count": 45,
   "metadata": {
    "ExecuteTime": {
     "end_time": "2021-10-08T21:00:06.344040Z",
     "start_time": "2021-10-08T21:00:06.204565Z"
    },
    "hidden": true
   },
   "outputs": [
    {
     "data": {
      "text/plain": [
       "Text(0.5, 1.0, 'Two distributions differing in mean')"
      ]
     },
     "execution_count": 45,
     "metadata": {},
     "output_type": "execute_result"
    },
    {
     "data": {
      "image/png": "[encoded data removed]",
      "text/plain": [
       "<Figure size 432x288 with 1 Axes>"
      ]
     },
     "metadata": {
      "needs_background": "light"
     },
     "output_type": "display_data"
    }
   ],
   "source": [
    "# Plotting the probability density function for continuous data\n",
    "fig, ax = plt.subplots()\n",
    "\n",
    "# Distribution with zero mean\n",
    "mean = 0\n",
    "\n",
    "# Calculate the percentile for x axis using stats.norm.ppf()\n",
    "z_curve = np.linspace(stats.norm(mean, 1).ppf(0.01),\n",
    "                      stats.norm(mean, 1).ppf(0.99), \n",
    "                      100)\n",
    "\n",
    "# Calculate the density values using stats.norm.pdf() for every percentile position\n",
    "# Plot the distribution in red\n",
    "ax.plot(z_curve, \n",
    "        stats.norm(mean, 1).pdf(z_curve),\n",
    "        'r-', lw=5, alpha=0.6, label='z_curve')\n",
    "\n",
    "# Distribution with mean value = 1\n",
    "mean = 1\n",
    "\n",
    "# Calculate the percentile for x axis using stats.norm.ppf()\n",
    "z_curve = np.linspace(stats.norm(mean, 1).ppf(0.01),\n",
    "                      stats.norm(mean, 1).ppf(0.99), \n",
    "                      100)\n",
    "\n",
    "# Calculate the density values using stats.norm.pdf() for every percentile position\n",
    "# Plot the distribution in blue\n",
    "ax.plot(z_curve, \n",
    "        stats.norm(mean, 1).pdf(z_curve),\n",
    "        'b-', lw=5, alpha=0.6, label='norm pdf')\n",
    "\n",
    "ax.set_title(\"Two distributions differing in mean\")"
   ]
  },
  {
   "cell_type": "markdown",
   "metadata": {
    "hidden": true
   },
   "source": [
    "The **variance** of our plots describes how closely the points are gathered around the mean. Low variance means tight and skinny, high variance short and wide. This is the `scale` parameter in the `stats` module.\n",
    "\n",
    "The two plots below have the same mean, but different variance:"
   ]
  },
  {
   "cell_type": "code",
   "execution_count": 48,
   "metadata": {
    "ExecuteTime": {
     "end_time": "2021-10-08T21:00:06.588631Z",
     "start_time": "2021-10-08T21:00:06.469311Z"
    },
    "hidden": true
   },
   "outputs": [
    {
     "data": {
      "text/plain": [
       "Text(0.5, 1.0, 'Two distributions differing in variance')"
      ]
     },
     "execution_count": 48,
     "metadata": {},
     "output_type": "execute_result"
    },
    {
     "data": {
      "image/png": "[encoded data removed]",
      "text/plain": [
       "<Figure size 432x288 with 1 Axes>"
      ]
     },
     "metadata": {
      "needs_background": "light"
     },
     "output_type": "display_data"
    }
   ],
   "source": [
    "# Create 2 normal distributions with same mean, but different sigma/scale\n",
    "fig, ax = plt.subplots()\n",
    "\n",
    "mean = 1\n",
    "std = 1\n",
    "z_curve = np.linspace(stats.norm(mean, std).ppf(0.01),\n",
    "                      stats.norm(mean, std).ppf(0.99), \n",
    "                      100)\n",
    "\n",
    "ax.plot(z_curve, stats.norm(mean, std).pdf(z_curve),\n",
    "        'r-', lw=5, alpha=0.6, label='z_curve')\n",
    "\n",
    "mean = 1\n",
    "std = 3\n",
    "z_curve = np.linspace(stats.norm(mean, std).ppf(0.01),\n",
    "                      stats.norm(mean, std).ppf(0.99), \n",
    "                      100)\n",
    "\n",
    "ax.plot(z_curve, stats.norm(mean, std).pdf(z_curve),\n",
    "        'b-', lw=5, alpha=0.6, label='norm pdf')\n",
    "\n",
    "ax.set_title(\"Two distributions differing in variance\")"
   ]
  },
  {
   "cell_type": "markdown",
   "metadata": {
    "heading_collapsed": true,
    "hidden": true
   },
   "source": [
    "## Some Things to Be Aware Of"
   ]
  },
  {
   "cell_type": "markdown",
   "metadata": {
    "hidden": true
   },
   "source": [
    "- For continuous random variables, obtaining probabilities for observing a specific outcome is not possible \n",
    "- Be careful with interpretation of PDF\n",
    "\n",
    "We can use the CDF to learn the probability that a variable will be less than or equal to a given value.\n",
    "\n",
    "Typically, you'll see something like this equation associated with the CDF:\n",
    "\n",
    "$$F(x) = P(X\\leq x)$$"
   ]
  },
  {
   "cell_type": "markdown",
   "metadata": {},
   "source": [
    "###  Code with Python:\n",
    "\n",
    "Let's use the ```scipy.stats``` module to calculate the cumulative density for both discrete and continuous distributions.\n",
    "\n",
    "For discrete distributions, let's try to calculate the probability of the **binomial** distribution for the number of successes equal or less than 8 successes out of 20 trials.\n",
    "\n",
    "$$P(x \\leq 8)$$"
   ]
  },
  {
   "cell_type": "code",
   "execution_count": 49,
   "metadata": {},
   "outputs": [],
   "source": [
    "p = .5"
   ]
  },
  {
   "cell_type": "code",
   "execution_count": 50,
   "metadata": {
    "ExecuteTime": {
     "end_time": "2021-10-08T21:00:07.840276Z",
     "start_time": "2021-10-08T21:00:07.836086Z"
    }
   },
   "outputs": [
    {
     "data": {
      "text/plain": [
       "0.25172233581542974"
      ]
     },
     "execution_count": 50,
     "metadata": {},
     "output_type": "execute_result"
    }
   ],
   "source": [
    "# Create the random discrete value for the number of success\n",
    "k = 8\n",
    "n_trials= 20\n",
    "# Calculate the probability for x equal or less than 8\n",
    "stats.binom.cdf(k, n_trials, p=p)"
   ]
  },
  {
   "cell_type": "markdown",
   "metadata": {},
   "source": [
    "For continuous distributions, we can calculate the probability of the **normal** distribution for a random value of x equal or less than 18.\n",
    "\n",
    "$$P(x \\leq 18)$$"
   ]
  },
  {
   "cell_type": "code",
   "execution_count": 51,
   "metadata": {
    "ExecuteTime": {
     "end_time": "2021-10-08T21:00:08.157104Z",
     "start_time": "2021-10-08T21:00:08.152825Z"
    }
   },
   "outputs": [
    {
     "data": {
      "text/plain": [
       "0.8849303297782918"
      ]
     },
     "execution_count": 51,
     "metadata": {},
     "output_type": "execute_result"
    }
   ],
   "source": [
    "#mean of the data\n",
    "mu = 15\n",
    "# standard deviation of the data\n",
    "sigma = 2.5\n",
    "\n",
    "# Create the random x value for calculation\n",
    "x=18\n",
    "# Calculate the probability for x equal or less than 18\n",
    "stats.norm.cdf(x, loc=mu, scale=sigma)"
   ]
  },
  {
   "cell_type": "markdown",
   "metadata": {},
   "source": [
    "Note: the ```cdf``` function by default return the probability of the left hand tail of the distribution. If you are interested to calculate the right hand tail probability, you can simply subtract the probability of the left tail from 1.\n",
    "\n",
    "$$P(x>18) = 1 - P(x \\leq 18)$$\n"
   ]
  },
  {
   "cell_type": "markdown",
   "metadata": {
    "heading_collapsed": true,
    "hidden": true
   },
   "source": [
    "## Example: Using CDF & comparison to PDF"
   ]
  },
  {
   "cell_type": "markdown",
   "metadata": {
    "hidden": true
   },
   "source": [
    "Consider the following normal distributions of heights.\n",
    "\n",
    "The PDF and the CDF look like:\n"
   ]
  },
  {
   "cell_type": "code",
   "execution_count": 52,
   "metadata": {
    "ExecuteTime": {
     "end_time": "2021-10-08T21:00:09.746527Z",
     "start_time": "2021-10-08T21:00:08.932952Z"
    },
    "hidden": true
   },
   "outputs": [
    {
     "data": {
      "text/plain": [
       "Text(0.5, 1.0, 'CDF of Height in the US')"
      ]
     },
     "execution_count": 52,
     "metadata": {},
     "output_type": "execute_result"
    },
    {
     "data": {
      "image/png": "[encoded data removed]",
      "text/plain": [
       "<Figure size 720x360 with 2 Axes>"
      ]
     },
     "metadata": {
      "needs_background": "light"
     },
     "output_type": "display_data"
    }
   ],
   "source": [
    "# Create a fake dataset with mean = 67, sigma = 4, and N = 1000\n",
    "r = sorted(stats.norm.rvs(loc=67, scale=4, size=1000))\n",
    "\n",
    "# Calculate the CDF using stats.norm.cdf()\n",
    "r_cdf = stats.norm.cdf(r, loc=67, scale=4)\n",
    "\n",
    "# Plot the PDF and CDF side-by-side\n",
    "fig, (ax1, ax2) = plt.subplots(1, 2, figsize=(10, 5))\n",
    "sns.kdeplot(r, ax=ax1, shade=True)\n",
    "ax1.set_title('PDF of Height in US')\n",
    "\n",
    "ax2.plot(r, r_cdf, color='g')\n",
    "ax2.set_title('CDF of Height in the US')"
   ]
  },
  {
   "cell_type": "markdown",
   "metadata": {
    "hidden": true
   },
   "source": [
    "If we provide `numpy` with the underlying parameters of our distribution, we can calculate:"
   ]
  },
  {
   "cell_type": "code",
   "execution_count": 53,
   "metadata": {
    "ExecuteTime": {
     "end_time": "2021-10-08T21:00:09.751397Z",
     "start_time": "2021-10-08T21:00:09.748388Z"
    },
    "hidden": true
   },
   "outputs": [
    {
     "name": "stdout",
     "output_type": "stream",
     "text": [
      "The probability density at 73 is 0.9331927987311419\n"
     ]
    }
   ],
   "source": [
    "# the probability that a value falls below a specified value\n",
    "r = stats.norm(67, 4)\n",
    "print(f'The probability density at 73 is {r.cdf(73)}')"
   ]
  },
  {
   "cell_type": "code",
   "execution_count": 54,
   "metadata": {
    "ExecuteTime": {
     "end_time": "2021-10-08T21:00:09.756558Z",
     "start_time": "2021-10-08T21:00:09.753422Z"
    },
    "hidden": true
   },
   "outputs": [
    {
     "name": "stdout",
     "output_type": "stream",
     "text": [
      "Probability between the range 67 to 75 is 0.4772498680518208\n"
     ]
    }
   ],
   "source": [
    "# the probability that a value falls between two specified values\n",
    "r = stats.norm(67, 4)\n",
    "print(f'Probability between the range 67 to 75 is {r.cdf(75) - r.cdf(67)}')"
   ]
  },
  {
   "cell_type": "markdown",
   "metadata": {
    "hidden": true
   },
   "source": [
    "We can also calculate the value associated with a specfic percentile:"
   ]
  },
  {
   "cell_type": "code",
   "execution_count": 55,
   "metadata": {
    "ExecuteTime": {
     "end_time": "2021-10-08T21:00:09.760204Z",
     "start_time": "2021-10-08T21:00:09.758011Z"
    },
    "hidden": true
   },
   "outputs": [
    {
     "name": "stdout",
     "output_type": "stream",
     "text": [
      "The 95th percentile: 73.5794145078059\n"
     ]
    }
   ],
   "source": [
    "# the 95th percentile\n",
    "print(f'The 95th percentile: {r.ppf(0.95)}')"
   ]
  },
  {
   "cell_type": "markdown",
   "metadata": {
    "heading_collapsed": true
   },
   "source": [
    "# Exercises"
   ]
  },
  {
   "cell_type": "markdown",
   "metadata": {
    "heading_collapsed": true,
    "hidden": true
   },
   "source": [
    "## Order Totals CDF & PDF"
   ]
  },
  {
   "cell_type": "markdown",
   "metadata": {
    "hidden": true
   },
   "source": [
    "Imagine that an online clothing business gets orders with totals that are normally distributed with an average of \\\\$95 and a standard deviation of \\\\$18. **Graph the PDF and CDF** for the orders for this business. "
   ]
  },
  {
   "cell_type": "code",
   "execution_count": null,
   "metadata": {
    "ExecuteTime": {
     "end_time": "2021-10-08T21:00:10.282262Z",
     "start_time": "2021-10-08T21:00:10.280216Z"
    },
    "hidden": true
   },
   "outputs": [],
   "source": [
    "# Your code here\n"
   ]
  },
  {
   "cell_type": "markdown",
   "metadata": {},
   "source": [
    "<details>\n",
    "    <summary>Answer</summary>\n",
    "        <code>\n",
    "        r = sorted(stats.norm.rvs(loc=95, scale=18, size=1000))\n",
    "        r_cdf = stats.norm.cdf(r, loc=95, scale=18)\n",
    "        fig, (ax1, ax2) = plt.subplots(1, 2, figsize=(10, 5))\n",
    "        sns.kdeplot(r, ax=ax1, shade=True)\n",
    "        ax1.set_title('PDF of Revenue') \n",
    "        ax2.plot(r, r_cdf, color='g')\n",
    "        ax2.set_title('CDF of Revenue')\n",
    "        </code>\n",
    "</details>"
   ]
  },
  {
   "cell_type": "markdown",
   "metadata": {
    "heading_collapsed": true,
    "hidden": true
   },
   "source": [
    "## Order Totals Observations"
   ]
  },
  {
   "cell_type": "markdown",
   "metadata": {
    "hidden": true
   },
   "source": [
    "After graphing, **write 1-3 observations** about the distributions of order totals based on these graphs."
   ]
  },
  {
   "cell_type": "markdown",
   "metadata": {
    "hidden": true
   },
   "source": [
    "**Your Observations**\n",
    "\n",
    "Observation 1: \n",
    "\n",
    "Observation 2: \n",
    "\n",
    "Observation 3:\n"
   ]
  },
  {
   "cell_type": "markdown",
   "metadata": {},
   "source": [
    "## How to Describe Distributions: Center, Spread and Shape\n",
    "\n",
    "The **center** refers loosely to the middle-values of a distribution, and is measured more precisely by notions like the mean, the median, and the mode.\n",
    "\n",
    "The **spread** refers loosely to how far away the more extreme values are from the center, and is measured by some value showing variation - more precisely by the standard deviation, which is effectively a measure of the average distance away from the mean.\n",
    "\n",
    "![different spread representations](images/examplesOfSpread.jpg)\n",
    "\n",
    "The **shape** refers loosely how the data shows up when visualized, more specifically capturing details like symmetry or skew, as well as the number of peaks in the distribution.\n",
    "\n",
    "![different distribution shapes](images/shapesOfDistributions.jpg)\n",
    "\n",
    "Note that sometimes the center of your distribution is harder to capture precisely, if the shape is skewed:\n",
    "\n",
    "![examples of skewed distributions](images/order_of_mean_median_mode.png)\n",
    "\n",
    "[Image Source for the images in this cell](http://mathcenter.oxford.emory.edu/site/math117/shapeCenterAndSpread/)"
   ]
  },
  {
   "cell_type": "markdown",
   "metadata": {
    "heading_collapsed": true
   },
   "source": [
    "# Level Up: Details on Expected Value and Variance"
   ]
  },
  {
   "cell_type": "markdown",
   "metadata": {
    "heading_collapsed": true,
    "hidden": true
   },
   "source": [
    "## For PMF - Discrete Values"
   ]
  },
  {
   "cell_type": "markdown",
   "metadata": {
    "heading_collapsed": true,
    "hidden": true
   },
   "source": [
    "### Expected Value/Mean"
   ]
  },
  {
   "cell_type": "markdown",
   "metadata": {
    "hidden": true
   },
   "source": [
    "The expected value, or the mean, describes the 'center' of the distribution (you may hear this called the first moment).  The 'center' refers loosely to the middle-values of a distribution, and is measured more precisely by notions like the mean, the median, and the mode.\n",
    "\n",
    "For a discrete distribution, working from the vantage point of a collected sample of n data points:\n",
    "\n",
    "mean = $\\Large\\mu = \\frac{\\Sigma^n_{i = 1}x_i}{n}$\n",
    "\n",
    "If we are working from the vantage point of known probabilities, the mean is referred to as the expected value. The expected value of a discrete distribution is the weighted sum of all values of x, where the weight is their probability.\n",
    " \n",
    "The expected value of the Lotto example is:\n",
    "${\\displaystyle \\operatorname {E} [X]= \\Sigma^n_{i=1}p(x_i)x_i}$"
   ]
  },
  {
   "cell_type": "markdown",
   "metadata": {
    "heading_collapsed": true,
    "hidden": true
   },
   "source": [
    "### Variance/Standard Deviation"
   ]
  },
  {
   "cell_type": "markdown",
   "metadata": {
    "hidden": true
   },
   "source": [
    "Variance describes the spread of the data (it is also referred to as the second moment).  The 'spread' refers loosely to how far away the more extreme values are from the center.\n",
    "\n",
    "Standard deviation is the square root of variance, and effectively measures the *average distance away from the mean*.\n",
    "\n",
    "From the standpoint of a sample, the variance of a discrete distribution of n data points is:\n",
    "\n",
    "std = $\\Large\\sigma = \\sqrt{\\frac{\\Sigma^n_{i = 1}(x_i - \\mu)^2}{n}}$\n",
    "\n",
    "\n",
    "Variance is the expectation of the squared deviation of a random variable from its mean.\n"
   ]
  },
  {
   "cell_type": "markdown",
   "metadata": {
    "heading_collapsed": true
   },
   "source": [
    "# Level Up: CDF Use Cases"
   ]
  },
  {
   "cell_type": "markdown",
   "metadata": {
    "hidden": true
   },
   "source": [
    "You might look at the CDF and wonder if it's a shadow of my beloved histogram. But there are some good use cases for this way of visualizing the CDF"
   ]
  },
  {
   "cell_type": "code",
   "execution_count": null,
   "metadata": {
    "ExecuteTime": {
     "end_time": "2021-10-08T21:00:13.628294Z",
     "start_time": "2021-10-08T21:00:13.624664Z"
    },
    "hidden": true
   },
   "outputs": [],
   "source": [
    "# First let's define some data\n",
    "domain_x = np.linspace(-1,1,100)\n",
    "norm_dist = stats.norm.rvs(0,0.3,domain_x.shape)\n",
    "norm_dist.shape"
   ]
  },
  {
   "cell_type": "markdown",
   "metadata": {
    "heading_collapsed": true,
    "hidden": true
   },
   "source": [
    "## Quickly identify key values"
   ]
  },
  {
   "cell_type": "markdown",
   "metadata": {
    "hidden": true
   },
   "source": [
    "Finding features like the median, minimum, maximum, and quartiles are easy to read"
   ]
  },
  {
   "cell_type": "code",
   "execution_count": null,
   "metadata": {
    "ExecuteTime": {
     "end_time": "2021-10-08T21:00:14.331413Z",
     "start_time": "2021-10-08T21:00:14.111518Z"
    },
    "hidden": true
   },
   "outputs": [],
   "source": [
    "f,(ax_pdf,ax_cdf) = plt.subplots(nrows=1,ncols=2,figsize=(12,4))\n",
    "\n",
    "###### Histogram (PDF)\n",
    "ax_pdf = sns.histplot(x=norm_dist, ax=ax_pdf, alpha=0.4)\n",
    "# You can also see the PDF if you want\n",
    "# ax_pdf = sns.kdeplot(x=out, cumulative=False, ax=ax_pdf)\n",
    "\n",
    "# Median line\n",
    "ax_pdf.vlines(\n",
    "    x=np.median(norm_dist),\n",
    "    ymin=0,\n",
    "    ymax=20,\n",
    "    linestyles='--',\n",
    "    color='red'      \n",
    ")\n",
    "# 25th-percentile line\n",
    "ax_pdf.vlines(\n",
    "    x=np.quantile(norm_dist, 0.25),\n",
    "    ymin=0,\n",
    "    ymax=20,\n",
    "    linestyles='--',\n",
    "    color='purple'      \n",
    ")\n",
    "# 75th-percentile line\n",
    "ax_pdf.vlines(\n",
    "    x=np.quantile(norm_dist, 0.75),\n",
    "    ymin=0,\n",
    "    ymax=20,\n",
    "    linestyles='--',\n",
    "    color='purple'      \n",
    ")\n",
    "\n",
    "###### CDF \n",
    "ax_cdf = sns.kdeplot(x=norm_dist, cumulative=True, ax=ax_cdf)\n",
    "\n",
    "# Median line\n",
    "ax_cdf.hlines(\n",
    "    y=0.5,\n",
    "    xmin=-1,\n",
    "    xmax=1,\n",
    "    linestyles='--',\n",
    "    color='red'\n",
    ")\n",
    "# 25th-percentile line\n",
    "ax_cdf.hlines(\n",
    "    y=0.25,\n",
    "    xmin=-1,\n",
    "    xmax=1,\n",
    "    linestyles='--',\n",
    "    color='purple'\n",
    ")\n",
    "# 75th-percentile line\n",
    "ax_cdf.hlines(\n",
    "    y=0.75,\n",
    "    xmin=-1,\n",
    "    xmax=1,\n",
    "    linestyles='--',\n",
    "    color='purple'\n",
    ")"
   ]
  },
  {
   "cell_type": "markdown",
   "metadata": {
    "heading_collapsed": true,
    "hidden": true
   },
   "source": [
    "## Outliers can be more obvious"
   ]
  },
  {
   "cell_type": "markdown",
   "metadata": {
    "hidden": true
   },
   "source": [
    "Visualizations with outliers can be a little tricky. Take a look at your histogram. With outliers, it might be identified but can distort our focus."
   ]
  },
  {
   "cell_type": "code",
   "execution_count": null,
   "metadata": {
    "ExecuteTime": {
     "end_time": "2021-10-08T21:00:14.672833Z",
     "start_time": "2021-10-08T21:00:14.668761Z"
    },
    "hidden": true
   },
   "outputs": [],
   "source": [
    "# Add an outlier\n",
    "norm_with_outliers = np.append(norm_dist, 5*np.abs(np.random.randn(5)))\n",
    "print(f'The range of norm_dist: \\n{norm_dist.min(), norm_dist.max()}\\n')\n",
    "print(f'The range of norm_with_outliers: \\n{norm_with_outliers.min(), norm_with_outliers.max()}\\n')"
   ]
  },
  {
   "cell_type": "code",
   "execution_count": null,
   "metadata": {
    "ExecuteTime": {
     "end_time": "2021-10-08T21:00:14.989799Z",
     "start_time": "2021-10-08T21:00:14.696050Z"
    },
    "hidden": true
   },
   "outputs": [],
   "source": [
    "f,(ax0,ax1) = plt.subplots(1,2, figsize=(12,4))\n",
    "\n",
    "# Showing the outliers\n",
    "sns.histplot(x=norm_with_outliers, alpha=0.4, ax=ax0)\n",
    "\n",
    "# Ignoring outliers\n",
    "ax1=sns.histplot(x=norm_with_outliers, alpha=0.4, ax=ax1)\n",
    "ax1.set_xlim(right=1.)"
   ]
  },
  {
   "cell_type": "markdown",
   "metadata": {
    "hidden": true
   },
   "source": [
    "In a worst-case, you might not notice the outliers because it gets swallowed up due by a bin because of the number of bins or bin width parameter"
   ]
  },
  {
   "cell_type": "markdown",
   "metadata": {
    "hidden": true
   },
   "source": [
    "Now using a CDF, it can be a lot easier to identify when there is an extreme value even if we scale the $x$-axis."
   ]
  },
  {
   "cell_type": "code",
   "execution_count": null,
   "metadata": {
    "ExecuteTime": {
     "end_time": "2021-10-08T21:00:15.423689Z",
     "start_time": "2021-10-08T21:00:15.203172Z"
    },
    "hidden": true
   },
   "outputs": [],
   "source": [
    "f,(ax0,ax1) = plt.subplots(1,2, figsize=(12,4))\n",
    "\n",
    "# Showing the outliers\n",
    "ax0 = sns.kdeplot(x=norm_with_outliers, cumulative=True, ax=ax0)\n",
    "ax0.hlines(1,xmin=-1,xmax=3,color='red',linestyles='--')\n",
    "\n",
    "# Ignoring outliers\n",
    "ax1 = sns.kdeplot(x=norm_with_outliers, cumulative=True, ax=ax1)\n",
    "ax1.hlines(1,xmin=-1,xmax=1,color='red',linestyles='--')\n",
    "ax1.set_xlim(right=1.)"
   ]
  },
  {
   "cell_type": "markdown",
   "metadata": {
    "heading_collapsed": true,
    "hidden": true
   },
   "source": [
    "## Identifying clusters"
   ]
  },
  {
   "cell_type": "markdown",
   "metadata": {
    "hidden": true
   },
   "source": [
    "Typically not hard with a histogram. But you can also see it in CDFs!"
   ]
  },
  {
   "cell_type": "code",
   "execution_count": null,
   "metadata": {
    "ExecuteTime": {
     "end_time": "2021-10-08T21:00:15.718993Z",
     "start_time": "2021-10-08T21:00:15.716159Z"
    },
    "hidden": true
   },
   "outputs": [],
   "source": [
    "# Create two sets of simulated data follow normal distribution\n",
    "domain_x = np.linspace(-1, 1, 100)\n",
    "norm_dist0 = stats.norm.rvs(0,0.3, domain_x.shape)\n",
    "norm_dist1 = stats.norm.rvs(2,0.2, domain_x.shape)\n",
    "\n",
    "# Combine the two datasets into one\n",
    "two_dist = np.append(norm_dist0, norm_dist1)"
   ]
  },
  {
   "cell_type": "code",
   "execution_count": null,
   "metadata": {
    "ExecuteTime": {
     "end_time": "2021-10-08T21:00:16.443920Z",
     "start_time": "2021-10-08T21:00:15.747406Z"
    },
    "hidden": true
   },
   "outputs": [],
   "source": [
    "f,(ax0,ax1,ax2) = plt.subplots(3,2, figsize=(12,12))\n",
    "\n",
    "# Histogram\n",
    "ax=sns.histplot(x=norm_dist0, alpha=0.4, ax=ax0[0])\n",
    "ax.set_xlim(-1,3.5)\n",
    "ax=sns.histplot(x=norm_dist1, alpha=0.4, ax=ax1[0])\n",
    "ax.set_xlim(-1,3.5)\n",
    "ax=sns.histplot(x=two_dist, alpha=0.4, ax=ax2[0])\n",
    "ax.set_xlim(-1,3.5)\n",
    "\n",
    "# CDF\n",
    "ax=sns.kdeplot(x=norm_dist0, alpha=0.4, ax=ax0[1], cumulative=True)\n",
    "ax.set_xlim(-1,3.5)\n",
    "ax=sns.kdeplot(x=norm_dist1, alpha=0.4, ax=ax1[1], cumulative=True)\n",
    "ax.set_xlim(-1,3.5)\n",
    "ax=sns.kdeplot(x=two_dist, alpha=0.4, ax=ax2[1], cumulative=True)\n",
    "ax.set_xlim(-1,3.5)"
   ]
  },
  {
   "cell_type": "markdown",
   "metadata": {
    "heading_collapsed": true,
    "hidden": true
   },
   "source": [
    "## Relatively easy to view multiple distributions"
   ]
  },
  {
   "cell_type": "code",
   "execution_count": null,
   "metadata": {
    "ExecuteTime": {
     "end_time": "2021-10-08T21:00:16.448471Z",
     "start_time": "2021-10-08T21:00:16.445562Z"
    },
    "hidden": true
   },
   "outputs": [],
   "source": [
    "# Craete three datasets that follow normal distribution\n",
    "norm_dist0 = stats.norm.rvs(0,0.3,domain_x.shape)\n",
    "norm_dist1 = stats.norm.rvs(0,0.2,domain_x.shape)\n",
    "norm_dist2 = stats.norm.rvs(0.3,0.2,domain_x.shape)"
   ]
  },
  {
   "cell_type": "code",
   "execution_count": null,
   "metadata": {
    "ExecuteTime": {
     "end_time": "2021-10-08T21:00:16.806819Z",
     "start_time": "2021-10-08T21:00:16.450355Z"
    },
    "hidden": true
   },
   "outputs": [],
   "source": [
    "f,(ax0,ax1) = plt.subplots(2,1, figsize=(12,12))\n",
    "\n",
    "# Histogram\n",
    "ax=sns.histplot(x=norm_dist0, alpha=0.4, ax=ax0, color='red')\n",
    "ax=sns.histplot(x=norm_dist1, alpha=0.4, ax=ax0, color='yellow')\n",
    "ax=sns.histplot(x=norm_dist2, alpha=0.4, ax=ax0, color='blue')\n",
    "\n",
    "# CDF\n",
    "ax=sns.kdeplot(x=norm_dist0, alpha=0.4, ax=ax1, cumulative=True, color='red')\n",
    "ax=sns.kdeplot(x=norm_dist1, alpha=0.4, ax=ax1, cumulative=True, color='yellow')\n",
    "ax=sns.kdeplot(x=norm_dist2, alpha=0.4, ax=ax1, cumulative=True, color='blue')"
   ]
  },
  {
   "cell_type": "markdown",
   "metadata": {
    "heading_collapsed": true
   },
   "source": [
    "# Level Up: Skewness"
   ]
  },
  {
   "cell_type": "markdown",
   "metadata": {
    "hidden": true
   },
   "source": [
    "Probability distributions can have skew, meaning they have more mass further from the mean on one side of the distribution than another. A skew of zero is perfectly symmetrical about the mean.   \n",
    "\n",
    "![skew](images/skew.png)"
   ]
  },
  {
   "cell_type": "code",
   "execution_count": null,
   "metadata": {
    "ExecuteTime": {
     "end_time": "2021-10-08T21:00:16.812366Z",
     "start_time": "2021-10-08T21:00:16.808630Z"
    },
    "hidden": true
   },
   "outputs": [],
   "source": [
    "# We can check skewness with scipy\n",
    "z_curve = np.random.normal(0, 1, 1000)\n",
    "print(f'The skewness measure of z_curve: {stats.skew(z_curve)}')"
   ]
  },
  {
   "cell_type": "code",
   "execution_count": null,
   "metadata": {},
   "outputs": [],
   "source": [
    "# Plotting the distribution\n",
    "fig, ax = plt.subplots(1, 1)\n",
    "ax.hist(z_curve, density=True, histtype='stepfilled', alpha=0.2)\n",
    "plt.show()"
   ]
  },
  {
   "cell_type": "code",
   "execution_count": null,
   "metadata": {
    "ExecuteTime": {
     "end_time": "2021-10-08T21:00:16.818025Z",
     "start_time": "2021-10-08T21:00:16.814693Z"
    },
    "scrolled": true
   },
   "outputs": [],
   "source": [
    "# Check the skewness of a Chi Square Distribution\n",
    "chisquare = stats.chi2.rvs(df=10, size=500)\n",
    "print(f'The skewness measure of chi^2 distribution: \\n{stats.skew(chisquare)}\\n')"
   ]
  },
  {
   "cell_type": "code",
   "execution_count": null,
   "metadata": {
    "ExecuteTime": {
     "end_time": "2021-10-08T21:00:16.976720Z",
     "start_time": "2021-10-08T21:00:16.820148Z"
    }
   },
   "outputs": [],
   "source": [
    "# Plotting the Chi Square distribution\n",
    "fig, ax = plt.subplots(1, 1)\n",
    "ax.hist(chisquare, density=True, histtype='stepfilled', alpha=0.2)\n",
    "plt.show()"
   ]
  },
  {
   "cell_type": "markdown",
   "metadata": {
    "heading_collapsed": true
   },
   "source": [
    "# Level Up: Kurtosis"
   ]
  },
  {
   "cell_type": "markdown",
   "metadata": {
    "hidden": true
   },
   "source": [
    "![kurtosis](images/kurtosis.png)"
   ]
  },
  {
   "cell_type": "code",
   "execution_count": null,
   "metadata": {
    "ExecuteTime": {
     "end_time": "2021-10-08T21:00:17.382143Z",
     "start_time": "2021-10-08T21:00:17.379232Z"
    }
   },
   "outputs": [],
   "source": [
    "# Check kurtosis with scipy\n",
    "print(f'The kurtosis measure of z_curve: {stats.kurtosis(z_curve)}')"
   ]
  },
  {
   "cell_type": "code",
   "execution_count": null,
   "metadata": {
    "ExecuteTime": {
     "end_time": "2021-10-08T21:00:17.406828Z",
     "start_time": "2021-10-08T21:00:17.404056Z"
    }
   },
   "outputs": [],
   "source": [
    "# Check kurtosis for Chi Square distribution\n",
    "print(f'The kurtosis meausre of Chi^2 distribution: {stats.kurtosis(chisquare)}')"
   ]
  }
 ],
 "metadata": {
  "hide_input": false,
  "kernelspec": {
   "display_name": "Python 3",
   "language": "python",
   "name": "python3"
  },
  "language_info": {
   "codemirror_mode": {
    "name": "ipython",
    "version": 3
   },
   "file_extension": ".py",
   "mimetype": "text/x-python",
   "name": "python",
   "nbconvert_exporter": "python",
   "pygments_lexer": "ipython3",
   "version": "3.8.5"
  },
  "latex_envs": {
   "LaTeX_envs_menu_present": true,
   "autoclose": false,
   "autocomplete": true,
   "bibliofile": "biblio.bib",
   "cite_by": "apalike",
   "current_citInitial": 1,
   "eqLabelWithNumbers": true,
   "eqNumInitial": 1,
   "hotkeys": {
    "equation": "Ctrl-E",
    "itemize": "Ctrl-I"
   },
   "labels_anchors": false,
   "latex_user_defs": false,
   "report_style_numbering": false,
   "user_envs_cfg": false
  },
  "nbTranslate": {
   "displayLangs": [
    "*"
   ],
   "hotkey": "alt-t",
   "langInMainMenu": true,
   "sourceLang": "en",
   "targetLang": "fr",
   "useGoogleTranslate": true
  },
  "toc": {
   "base_numbering": 1,
   "nav_menu": {},
   "number_sections": true,
   "sideBar": true,
   "skip_h1_title": false,
   "title_cell": "Table of Contents",
   "title_sidebar": "TOC",
   "toc_cell": true,
   "toc_position": {
    "height": "calc(100% - 180px)",
    "left": "10px",
    "top": "150px",
    "width": "219px"
   },
   "toc_section_display": true,
   "toc_window_display": false
  }
 },
 "nbformat": 4,
 "nbformat_minor": 4
}
